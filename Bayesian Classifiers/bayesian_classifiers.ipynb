{
 "cells": [
  {
   "cell_type": "code",
   "execution_count": 1,
   "metadata": {},
   "outputs": [],
   "source": [
    "from sklearn import datasets, metrics\n",
    "%matplotlib inline\n",
    "import matplotlib.pyplot as plt\n",
    "from sklearn.naive_bayes import GaussianNB\n",
    "from sklearn.model_selection import train_test_split\n",
    "import MNIST\n",
    "import NCC\n",
    "import NBC\n",
    "import GNB"
   ]
  },
  {
   "cell_type": "code",
   "execution_count": 2,
   "metadata": {},
   "outputs": [],
   "source": [
    "digits = datasets.load_digits()\n",
    "digits_train, digits_test, y_digits_train, y_digits_test = train_test_split( digits.data, digits.target, test_size=0.3, random_state=163)"
   ]
  },
  {
   "cell_type": "code",
   "execution_count": 3,
   "metadata": {},
   "outputs": [],
   "source": [
    "binned_digits=digits.data\n",
    "for i, features in enumerate(digits.data):\n",
    "    for j, feature in enumerate(features):\n",
    "        if feature < 5:\n",
    "            binned_digits[i][j]=0\n",
    "        elif feature > 10:\n",
    "            binned_digits[i][j]=2\n",
    "        else:\n",
    "            binned_digits[i][j]=1\n",
    "binned_train, binned_test, y_binned_train, y_binned_test = train_test_split(binned_digits, digits.target, test_size=0.3, random_state=163)"
   ]
  },
  {
   "cell_type": "code",
   "execution_count": 4,
   "metadata": {},
   "outputs": [],
   "source": [
    "mnist = MNIST.MNISTData('MNIST_Light/*/*.png')\n",
    "train_features, test_features, train_labels, test_labels = mnist.get_data()"
   ]
  },
  {
   "cell_type": "code",
   "execution_count": 5,
   "metadata": {},
   "outputs": [],
   "source": [
    "### Digits data set ###"
   ]
  },
  {
   "cell_type": "code",
   "execution_count": 6,
   "metadata": {},
   "outputs": [
    {
     "name": "stdout",
     "output_type": "stream",
     "text": [
      "Classification report SKLearn GNB:\n",
      "              precision    recall  f1-score   support\n",
      "\n",
      "           0       0.98      1.00      0.99        55\n",
      "           1       0.67      0.94      0.78        64\n",
      "           2       0.92      0.51      0.66        47\n",
      "           3       0.92      0.78      0.84        63\n",
      "           4       0.98      0.83      0.90        53\n",
      "           5       0.85      0.90      0.87        49\n",
      "           6       1.00      0.98      0.99        53\n",
      "           7       0.72      0.98      0.83        51\n",
      "           8       0.51      0.68      0.58        47\n",
      "           9       0.97      0.59      0.73        58\n",
      "\n",
      "    accuracy                           0.82       540\n",
      "   macro avg       0.85      0.82      0.82       540\n",
      "weighted avg       0.86      0.82      0.82       540\n",
      "\n",
      "\n",
      "Confusion matrix SKLearn GNB:\n",
      "[[55  0  0  0  0  0  0  0  0  0]\n",
      " [ 0 60  0  0  0  0  0  1  3  0]\n",
      " [ 0  7 24  1  0  0  0  0 15  0]\n",
      " [ 0  1  1 49  0  3  0  1  8  0]\n",
      " [ 0  3  0  0 44  1  0  5  0  0]\n",
      " [ 0  0  0  2  0 44  0  1  1  1]\n",
      " [ 0  0  0  0  0  1 52  0  0  0]\n",
      " [ 0  0  0  0  0  1  0 50  0  0]\n",
      " [ 0 10  0  1  0  1  0  3 32  0]\n",
      " [ 1  8  1  0  1  1  0  8  4 34]]\n"
     ]
    }
   ],
   "source": [
    "# sklearn GNB\n",
    "gnb_sk = GaussianNB()\n",
    "gnb_sk.fit(digits_train, y_digits_train)\n",
    "y_pred = gnb_sk.predict(digits_test)\n",
    "print(\"Classification report SKLearn GNB:\\n%s\\n\"\n",
    "  % (metrics.classification_report(y_digits_test, y_pred)))\n",
    "print(\"Confusion matrix SKLearn GNB:\\n%s\" % metrics.confusion_matrix(y_digits_test, y_pred))"
   ]
  },
  {
   "cell_type": "code",
   "execution_count": 7,
   "metadata": {},
   "outputs": [
    {
     "name": "stdout",
     "output_type": "stream",
     "text": [
      "Classification report SKLearn GNB:\n",
      "              precision    recall  f1-score   support\n",
      "\n",
      "           0       0.98      1.00      0.99        55\n",
      "           1       0.56      0.97      0.71        64\n",
      "           2       1.00      0.53      0.69        47\n",
      "           3       0.75      0.94      0.83        63\n",
      "           4       1.00      0.81      0.90        53\n",
      "           5       1.00      0.65      0.79        49\n",
      "           6       1.00      0.89      0.94        53\n",
      "           7       0.88      0.98      0.93        51\n",
      "           8       1.00      0.21      0.35        47\n",
      "           9       0.64      0.88      0.74        58\n",
      "\n",
      "    accuracy                           0.80       540\n",
      "   macro avg       0.88      0.79      0.79       540\n",
      "weighted avg       0.87      0.80      0.79       540\n",
      "\n",
      "\n",
      "Confusion matrix SKLearn GNB:\n",
      "[[55  0  0  0  0  0  0  0  0  0]\n",
      " [ 0 62  0  0  0  0  0  0  0  2]\n",
      " [ 0  7 25 15  0  0  0  0  0  0]\n",
      " [ 0  1  0 59  0  0  0  1  0  2]\n",
      " [ 1  8  0  0 43  0  0  1  0  0]\n",
      " [ 0  2  0  1  0 32  0  0  0 14]\n",
      " [ 0  5  0  0  0  0 47  0  0  1]\n",
      " [ 0  0  0  0  0  0  0 50  0  1]\n",
      " [ 0 22  0  4  0  0  0  2 10  9]\n",
      " [ 0  4  0  0  0  0  0  3  0 51]]\n"
     ]
    }
   ],
   "source": [
    "# My NCC\n",
    "ncc = NCC.NCC()\n",
    "ncc.fit(digits_train, y_digits_train)\n",
    "y_pred = ncc.predict(digits_test)\n",
    "print(\"Classification report My NCC:\\n%s\\n\"\n",
    "  % (metrics.classification_report(y_digits_test, y_pred)))\n",
    "print(\"Confusion matrix My NCC:\\n%s\" % metrics.confusion_matrix(y_digits_test, y_pred))"
   ]
  },
  {
   "cell_type": "code",
   "execution_count": 8,
   "metadata": {},
   "outputs": [
    {
     "name": "stdout",
     "output_type": "stream",
     "text": [
      "Classification report My NBC:\n",
      "              precision    recall  f1-score   support\n",
      "\n",
      "           0       1.00      0.98      0.99        55\n",
      "           1       0.95      0.88      0.91        64\n",
      "           2       0.89      0.85      0.87        47\n",
      "           3       0.86      0.90      0.88        63\n",
      "           4       0.94      0.94      0.94        53\n",
      "           5       0.92      0.90      0.91        49\n",
      "           6       0.98      1.00      0.99        53\n",
      "           7       0.88      1.00      0.94        51\n",
      "           8       0.81      0.81      0.81        47\n",
      "           9       0.84      0.81      0.82        58\n",
      "\n",
      "    accuracy                           0.91       540\n",
      "   macro avg       0.91      0.91      0.91       540\n",
      "weighted avg       0.91      0.91      0.91       540\n",
      "\n",
      "\n",
      "Confusion matrix My NBC:\n",
      "[[54  0  0  0  1  0  0  0  0  0]\n",
      " [ 0 56  4  0  0  1  1  0  1  1]\n",
      " [ 0  1 40  4  0  0  0  0  2  0]\n",
      " [ 0  0  0 57  0  0  0  1  3  2]\n",
      " [ 0  0  0  0 50  1  0  2  0  0]\n",
      " [ 0  0  0  1  0 44  0  0  1  3]\n",
      " [ 0  0  0  0  0  0 53  0  0  0]\n",
      " [ 0  0  0  0  0  0  0 51  0  0]\n",
      " [ 0  2  1  2  0  1  0  0 38  3]\n",
      " [ 0  0  0  2  2  1  0  4  2 47]]\n"
     ]
    }
   ],
   "source": [
    "# My NBC\n",
    "nbc = NBC.NBC()\n",
    "nbc.fit(digits_train, y_digits_train)\n",
    "y_pred = nbc.predict(digits_test)\n",
    "print(\"Classification report My NBC:\\n%s\\n\"\n",
    "  % (metrics.classification_report(y_digits_test, y_pred)))\n",
    "print(\"Confusion matrix My NBC:\\n%s\" % metrics.confusion_matrix(y_digits_test, y_pred))"
   ]
  },
  {
   "cell_type": "code",
   "execution_count": 10,
   "metadata": {},
   "outputs": [
    {
     "name": "stderr",
     "output_type": "stream",
     "text": [
      "100%|████████████████████████████████████████| 540/540 [00:32<00:00, 16.75it/s]\n"
     ]
    },
    {
     "name": "stdout",
     "output_type": "stream",
     "text": [
      "Classification report My GNB:\n",
      "              precision    recall  f1-score   support\n",
      "\n",
      "           0       1.00      0.98      0.99        55\n",
      "           1       0.84      0.88      0.85        64\n",
      "           2       0.89      0.68      0.77        47\n",
      "           3       0.92      0.87      0.89        63\n",
      "           4       0.94      0.92      0.93        53\n",
      "           5       0.86      0.90      0.88        49\n",
      "           6       1.00      0.98      0.99        53\n",
      "           7       0.81      0.98      0.88        51\n",
      "           8       0.67      0.85      0.75        47\n",
      "           9       0.89      0.71      0.79        58\n",
      "\n",
      "    accuracy                           0.88       540\n",
      "   macro avg       0.88      0.88      0.87       540\n",
      "weighted avg       0.88      0.88      0.88       540\n",
      "\n",
      "\n",
      "Confusion matrix My GNB:\n",
      "[[54  0  0  0  1  0  0  0  0  0]\n",
      " [ 0 56  2  0  0  0  0  1  2  3]\n",
      " [ 0  4 32  1  0  0  0  0 10  0]\n",
      " [ 0  0  1 55  0  1  0  1  5  0]\n",
      " [ 0  0  0  0 49  1  0  2  0  1]\n",
      " [ 0  0  0  2  0 44  0  1  1  1]\n",
      " [ 0  0  0  0  0  1 52  0  0  0]\n",
      " [ 0  0  0  0  0  1  0 50  0  0]\n",
      " [ 0  4  0  1  0  2  0  0 40  0]\n",
      " [ 0  3  1  1  2  1  0  7  2 41]]\n"
     ]
    }
   ],
   "source": [
    "# My GNB\n",
    "gnb = GNB.GNB()\n",
    "gnb.fit(digits_train, y_digits_train)\n",
    "y_pred = gnb.predict(digits_test)\n",
    "print(\"Classification report My GNB:\\n%s\\n\"\n",
    "  % (metrics.classification_report(y_digits_test, y_pred)))\n",
    "print(\"Confusion matrix My GNB:\\n%s\" % metrics.confusion_matrix(y_digits_test, y_pred))"
   ]
  },
  {
   "cell_type": "code",
   "execution_count": null,
   "metadata": {},
   "outputs": [],
   "source": [
    "### Digits summerised data set ###"
   ]
  },
  {
   "cell_type": "code",
   "execution_count": 11,
   "metadata": {},
   "outputs": [
    {
     "name": "stdout",
     "output_type": "stream",
     "text": [
      "Classification report SKLearn GNB:\n",
      "              precision    recall  f1-score   support\n",
      "\n",
      "           0       0.96      1.00      0.98        55\n",
      "           1       0.84      0.59      0.70        64\n",
      "           2       0.83      0.62      0.71        47\n",
      "           3       0.87      0.52      0.65        63\n",
      "           4       0.97      0.58      0.73        53\n",
      "           5       0.89      0.69      0.78        49\n",
      "           6       0.89      0.96      0.93        53\n",
      "           7       0.56      0.94      0.71        51\n",
      "           8       0.35      0.89      0.50        47\n",
      "           9       0.94      0.52      0.67        58\n",
      "\n",
      "    accuracy                           0.72       540\n",
      "   macro avg       0.81      0.73      0.74       540\n",
      "weighted avg       0.82      0.72      0.74       540\n",
      "\n",
      "\n",
      "Confusion matrix SKLearn GNB:\n",
      "[[55  0  0  0  0  0  0  0  0  0]\n",
      " [ 0 38  3  0  0  1  0  5 16  1]\n",
      " [ 0  0 29  0  0  0  0  0 18  0]\n",
      " [ 0  0  2 33  0  0  0  3 25  0]\n",
      " [ 0  3  0  0 31  1  5 12  1  0]\n",
      " [ 1  0  0  2  0 34  1  5  5  1]\n",
      " [ 0  1  0  0  0  1 51  0  0  0]\n",
      " [ 0  0  0  0  1  1  0 48  1  0]\n",
      " [ 0  2  0  0  0  0  0  3 42  0]\n",
      " [ 1  1  1  3  0  0  0  9 13 30]]\n"
     ]
    }
   ],
   "source": [
    "# sklearn GNB\n",
    "gnb_sk = GaussianNB()\n",
    "gnb_sk.fit(binned_train, y_binned_train)\n",
    "y_pred = gnb_sk.predict(binned_test)\n",
    "print(\"Classification report SKLearn GNB:\\n%s\\n\"\n",
    "  % (metrics.classification_report(y_binned_test, y_pred)))\n",
    "print(\"Confusion matrix SKLearn GNB:\\n%s\" % metrics.confusion_matrix(y_binned_test, y_pred))"
   ]
  },
  {
   "cell_type": "code",
   "execution_count": 12,
   "metadata": {},
   "outputs": [
    {
     "name": "stdout",
     "output_type": "stream",
     "text": [
      "Classification report My NCC:\n",
      "              precision    recall  f1-score   support\n",
      "\n",
      "           0       1.00      0.98      0.99        55\n",
      "           1       0.44      0.98      0.61        64\n",
      "           2       1.00      0.53      0.69        47\n",
      "           3       0.77      0.94      0.84        63\n",
      "           4       0.98      0.77      0.86        53\n",
      "           5       0.97      0.61      0.75        49\n",
      "           6       1.00      0.81      0.90        53\n",
      "           7       0.87      0.90      0.88        51\n",
      "           8       1.00      0.09      0.16        47\n",
      "           9       0.67      0.79      0.72        58\n",
      "\n",
      "    accuracy                           0.76       540\n",
      "   macro avg       0.87      0.74      0.74       540\n",
      "weighted avg       0.85      0.76      0.75       540\n",
      "\n",
      "\n",
      "Confusion matrix My NCC:\n",
      "[[54  0  0  0  1  0  0  0  0  0]\n",
      " [ 0 63  0  0  0  0  0  0  0  1]\n",
      " [ 0 11 25 11  0  0  0  0  0  0]\n",
      " [ 0  2  0 59  0  0  0  1  0  1]\n",
      " [ 0 11  0  0 41  0  0  1  0  0]\n",
      " [ 0  3  0  3  0 30  0  0  0 13]\n",
      " [ 0 10  0  0  0  0 43  0  0  0]\n",
      " [ 0  4  0  0  0  0  0 46  0  1]\n",
      " [ 0 30  0  3  0  1  0  2  4  7]\n",
      " [ 0  8  0  1  0  0  0  3  0 46]]\n"
     ]
    }
   ],
   "source": [
    "# My NCC\n",
    "ncc = NCC.NCC()\n",
    "ncc.fit(binned_train, y_binned_train)\n",
    "y_pred = ncc.predict(binned_test)\n",
    "print(\"Classification report My NCC:\\n%s\\n\"\n",
    "  % (metrics.classification_report(y_binned_test, y_pred)))\n",
    "print(\"Confusion matrix My NCC:\\n%s\" % metrics.confusion_matrix(y_binned_test, y_pred))"
   ]
  },
  {
   "cell_type": "code",
   "execution_count": 13,
   "metadata": {},
   "outputs": [
    {
     "name": "stdout",
     "output_type": "stream",
     "text": [
      "Classification report My NBC:\n",
      "              precision    recall  f1-score   support\n",
      "\n",
      "           0       1.00      0.98      0.99        55\n",
      "           1       0.87      0.83      0.85        64\n",
      "           2       0.93      0.89      0.91        47\n",
      "           3       0.94      0.95      0.94        63\n",
      "           4       0.96      0.91      0.93        53\n",
      "           5       0.90      0.88      0.89        49\n",
      "           6       1.00      0.98      0.99        53\n",
      "           7       0.86      1.00      0.93        51\n",
      "           8       0.81      0.83      0.82        47\n",
      "           9       0.85      0.86      0.85        58\n",
      "\n",
      "    accuracy                           0.91       540\n",
      "   macro avg       0.91      0.91      0.91       540\n",
      "weighted avg       0.91      0.91      0.91       540\n",
      "\n",
      "\n",
      "Confusion matrix My NBC:\n",
      "[[54  0  0  0  1  0  0  0  0  0]\n",
      " [ 0 53  3  0  0  1  0  0  5  2]\n",
      " [ 0  1 42  2  0  0  0  0  1  1]\n",
      " [ 0  0  0 60  0  0  0  1  2  0]\n",
      " [ 0  2  0  0 48  0  0  3  0  0]\n",
      " [ 0  1  0  1  0 43  0  0  0  4]\n",
      " [ 0  1  0  0  0  0 52  0  0  0]\n",
      " [ 0  0  0  0  0  0  0 51  0  0]\n",
      " [ 0  2  0  1  0  3  0  0 39  2]\n",
      " [ 0  1  0  0  1  1  0  4  1 50]]\n"
     ]
    }
   ],
   "source": [
    "# My NBC\n",
    "nbc = NBC.NBC()\n",
    "nbc.fit(binned_train, y_binned_train)\n",
    "y_pred = nbc.predict(binned_test)\n",
    "print(\"Classification report My NBC:\\n%s\\n\"\n",
    "  % (metrics.classification_report(y_binned_test, y_pred)))\n",
    "print(\"Confusion matrix My NBC:\\n%s\" % metrics.confusion_matrix(y_binned_test, y_pred))"
   ]
  },
  {
   "cell_type": "code",
   "execution_count": 14,
   "metadata": {},
   "outputs": [
    {
     "name": "stderr",
     "output_type": "stream",
     "text": [
      "100%|████████████████████████████████████████| 540/540 [00:33<00:00, 15.70it/s]\n"
     ]
    },
    {
     "name": "stdout",
     "output_type": "stream",
     "text": [
      "Classification report My GNB:\n",
      "              precision    recall  f1-score   support\n",
      "\n",
      "           0       1.00      0.98      0.99        55\n",
      "           1       0.90      0.72      0.80        64\n",
      "           2       0.89      0.85      0.87        47\n",
      "           3       0.93      0.84      0.88        63\n",
      "           4       0.96      0.85      0.90        53\n",
      "           5       0.87      0.92      0.89        49\n",
      "           6       1.00      0.96      0.98        53\n",
      "           7       0.76      0.94      0.84        51\n",
      "           8       0.60      0.91      0.72        47\n",
      "           9       0.92      0.76      0.83        58\n",
      "\n",
      "    accuracy                           0.87       540\n",
      "   macro avg       0.88      0.87      0.87       540\n",
      "weighted avg       0.89      0.87      0.87       540\n",
      "\n",
      "\n",
      "Confusion matrix My GNB:\n",
      "[[54  0  0  0  1  0  0  0  0  0]\n",
      " [ 0 46  3  0  0  1  0  2 10  2]\n",
      " [ 0  1 40  0  0  0  0  0  6  0]\n",
      " [ 0  0  2 53  0  0  0  2  5  1]\n",
      " [ 0  2  0  0 45  1  0  3  2  0]\n",
      " [ 0  0  0  2  0 45  0  1  0  1]\n",
      " [ 0  0  0  0  0  2 51  0  0  0]\n",
      " [ 0  0  0  0  1  1  0 48  1  0]\n",
      " [ 0  2  0  0  0  1  0  1 43  0]\n",
      " [ 0  0  0  2  0  1  0  6  5 44]]\n"
     ]
    }
   ],
   "source": [
    "# My GNB\n",
    "gnb = GNB.GNB()\n",
    "gnb.fit(binned_train, y_binned_train)\n",
    "y_pred = gnb.predict(binned_test)\n",
    "print(\"Classification report My GNB:\\n%s\\n\"\n",
    "  % (metrics.classification_report(y_binned_test, y_pred)))\n",
    "print(\"Confusion matrix My GNB:\\n%s\" % metrics.confusion_matrix(y_binned_test, y_pred))"
   ]
  },
  {
   "cell_type": "code",
   "execution_count": null,
   "metadata": {},
   "outputs": [],
   "source": [
    "### MNIST_Light data set ###"
   ]
  },
  {
   "cell_type": "code",
   "execution_count": 15,
   "metadata": {},
   "outputs": [
    {
     "name": "stdout",
     "output_type": "stream",
     "text": [
      "Classification report SKLearn GNB:\n",
      "              precision    recall  f1-score   support\n",
      "\n",
      "           0       0.54      0.94      0.69       164\n",
      "           1       0.71      0.94      0.81       152\n",
      "           2       0.83      0.50      0.62       155\n",
      "           3       0.83      0.53      0.65       154\n",
      "           4       0.75      0.31      0.44       143\n",
      "           5       0.67      0.16      0.25       141\n",
      "           6       0.81      0.85      0.83       143\n",
      "           7       0.83      0.82      0.83       158\n",
      "           8       0.41      0.64      0.50       132\n",
      "           9       0.60      0.84      0.70       158\n",
      "\n",
      "    accuracy                           0.66      1500\n",
      "   macro avg       0.70      0.65      0.63      1500\n",
      "weighted avg       0.70      0.66      0.64      1500\n",
      "\n",
      "\n",
      "Confusion matrix SKLearn GNB:\n",
      "[[154   0   6   0   1   1   0   0   1   1]\n",
      " [  1 143   1   0   0   1   0   1   3   2]\n",
      " [ 11   6  77  10   2   1  19   1  27   1]\n",
      " [ 32  11   5  82   0   0   2   3  12   7]\n",
      " [ 10   1   2   2  45   2   6   9  24  42]\n",
      " [ 55   7   0   2   2  22   1   0  47   5]\n",
      " [ 10   7   0   0   0   2 122   0   2   0]\n",
      " [  2   1   1   2   3   0   0 130   3  16]\n",
      " [  5  23   1   1   0   4   1   0  84  13]\n",
      " [  3   1   0   0   7   0   0  12   2 133]]\n"
     ]
    }
   ],
   "source": [
    "# sklearn GNB\n",
    "gnb_sk = GaussianNB()\n",
    "gnb_sk.fit(train_features, train_labels)\n",
    "y_pred = gnb_sk.predict(test_features)\n",
    "print(\"Classification report SKLearn GNB:\\n%s\\n\"\n",
    "  % (metrics.classification_report(test_labels, y_pred)))\n",
    "print(\"Confusion matrix SKLearn GNB:\\n%s\" % metrics.confusion_matrix(test_labels, y_pred))"
   ]
  },
  {
   "cell_type": "code",
   "execution_count": 16,
   "metadata": {},
   "outputs": [
    {
     "name": "stdout",
     "output_type": "stream",
     "text": [
      "Classification report My NCC:\n",
      "              precision    recall  f1-score   support\n",
      "\n",
      "           0       0.89      0.95      0.92       164\n",
      "           1       0.77      0.97      0.86       152\n",
      "           2       0.86      0.75      0.80       155\n",
      "           3       0.71      0.77      0.74       154\n",
      "           4       0.77      0.76      0.76       143\n",
      "           5       0.83      0.63      0.72       141\n",
      "           6       0.90      0.87      0.89       143\n",
      "           7       0.95      0.82      0.88       158\n",
      "           8       0.72      0.80      0.76       132\n",
      "           9       0.76      0.78      0.77       158\n",
      "\n",
      "    accuracy                           0.81      1500\n",
      "   macro avg       0.82      0.81      0.81      1500\n",
      "weighted avg       0.82      0.81      0.81      1500\n",
      "\n",
      "\n",
      "Confusion matrix My NCC:\n",
      "[[156   0   1   0   0   2   3   0   2   0]\n",
      " [  0 147   0   0   0   2   0   0   2   1]\n",
      " [  0  12 116  10   2   1   2   1  10   1]\n",
      " [  3   3   7 119   0   2   1   2  13   4]\n",
      " [  1   3   2   0 108   0   3   0   2  24]\n",
      " [  4   9   0  27   4  89   2   0   3   3]\n",
      " [  3   4   3   0   2   4 125   1   1   0]\n",
      " [  1  11   2   0   5   1   1 129   3   5]\n",
      " [  4   2   3  11   0   4   1   0 105   2]\n",
      " [  3   0   1   1  19   2   1   3   4 124]]\n"
     ]
    }
   ],
   "source": [
    "# My NCC\n",
    "ncc = NCC.NCC()\n",
    "ncc.fit(train_features, train_labels)\n",
    "y_pred = ncc.predict(test_features)\n",
    "print(\"Classification report My NCC:\\n%s\\n\"\n",
    "  % (metrics.classification_report(test_labels, y_pred)))\n",
    "print(\"Confusion matrix My NCC:\\n%s\" % metrics.confusion_matrix(test_labels, y_pred))"
   ]
  },
  {
   "cell_type": "code",
   "execution_count": 17,
   "metadata": {},
   "outputs": [
    {
     "name": "stdout",
     "output_type": "stream",
     "text": [
      "Classification report My NBC:\n",
      "              precision    recall  f1-score   support\n",
      "\n",
      "           0       1.00      0.12      0.22       164\n",
      "           1       0.84      0.98      0.90       152\n",
      "           2       0.74      0.17      0.27       155\n",
      "           3       0.68      0.29      0.40       154\n",
      "           4       0.77      0.55      0.64       143\n",
      "           5       0.72      0.42      0.53       141\n",
      "           6       0.83      0.71      0.76       143\n",
      "           7       0.92      0.75      0.83       158\n",
      "           8       0.57      0.38      0.46       132\n",
      "           9       0.20      0.87      0.33       158\n",
      "\n",
      "    accuracy                           0.52      1500\n",
      "   macro avg       0.73      0.52      0.53      1500\n",
      "weighted avg       0.73      0.52      0.53      1500\n",
      "\n",
      "\n",
      "Confusion matrix My NBC:\n",
      "[[ 20   0   0   2   1   3   2   1   2 133]\n",
      " [  0 149   0   0   0   1   1   0   1   0]\n",
      " [  0   3  26   4   3   2  12   0  10  95]\n",
      " [  0   2   5  44   0   5   2   1   8  87]\n",
      " [  0   2   0   0  79   3   2   2   4  51]\n",
      " [  0   4   0  12   2  59   2   0   7  55]\n",
      " [  0   3   1   0   2   4 101   0   3  29]\n",
      " [  0  10   3   0   8   0   0 118   0  19]\n",
      " [  0   4   0   2   0   2   0   0  50  74]\n",
      " [  0   1   0   1   7   3   0   6   2 138]]\n"
     ]
    }
   ],
   "source": [
    "# My NBC\n",
    "nbc = NBC.NBC()\n",
    "nbc.fit(train_features, train_labels)\n",
    "y_pred = nbc.predict(test_features)\n",
    "print(\"Classification report My NBC:\\n%s\\n\"\n",
    "  % (metrics.classification_report(test_labels, y_pred)))\n",
    "print(\"Confusion matrix My NBC:\\n%s\" % metrics.confusion_matrix(test_labels, y_pred))"
   ]
  },
  {
   "cell_type": "code",
   "execution_count": 18,
   "metadata": {},
   "outputs": [
    {
     "name": "stderr",
     "output_type": "stream",
     "text": [
      "  0%|                                         | 4/1500 [00:01<09:20,  2.67it/s]C:\\Users\\lilln\\PycharmProjects\\EDAN95\\lab5\\GNB.py:38: RuntimeWarning: overflow encountered in double_scalars\n",
      "  if prospect_prob >= max_prob:\n",
      " 12%|████▊                                  | 185/1500 [01:13<08:08,  2.69it/s]C:\\Users\\lilln\\PycharmProjects\\EDAN95\\lab5\\GNB.py:38: RuntimeWarning: invalid value encountered in double_scalars\n",
      "  if prospect_prob >= max_prob:\n",
      "100%|██████████████████████████████████████| 1500/1500 [10:04<00:00,  2.61it/s]\n"
     ]
    },
    {
     "name": "stdout",
     "output_type": "stream",
     "text": [
      "Classification report My GNB:\n",
      "              precision    recall  f1-score   support\n",
      "\n",
      "           0       0.88      0.93      0.90       164\n",
      "           1       0.78      0.97      0.86       152\n",
      "           2       0.79      0.60      0.68       155\n",
      "           3       0.80      0.77      0.79       154\n",
      "           4       0.83      0.60      0.70       143\n",
      "           5       0.90      0.50      0.65       141\n",
      "           6       0.81      0.94      0.87       143\n",
      "           7       0.95      0.77      0.85       158\n",
      "           8       0.59      0.73      0.65       132\n",
      "           9       0.60      0.90      0.72       158\n",
      "\n",
      "    accuracy                           0.77      1500\n",
      "   macro avg       0.79      0.77      0.77      1500\n",
      "weighted avg       0.80      0.77      0.77      1500\n",
      "\n",
      "\n",
      "Confusion matrix My GNB:\n",
      "[[152   0   5   0   0   1   1   0   3   2]\n",
      " [  0 147   0   0   0   0   1   0   4   0]\n",
      " [  1   5  93   9   1   1  17   1  26   1]\n",
      " [  1   5  13 119   0   1   2   2   5   6]\n",
      " [  2   1   2   0  86   0   6   0   4  42]\n",
      " [ 13   6   1  17   3  71   1   0  21   8]\n",
      " [  2   3   0   0   0   2 134   0   2   0]\n",
      " [  0   6   2   0   6   0   0 121   1  22]\n",
      " [  0  15   2   1   0   3   3   0  96  12]\n",
      " [  2   0   0   2   7   0   0   3   2 142]]\n"
     ]
    }
   ],
   "source": [
    "# My GNB\n",
    "gnb = GNB.GNB()\n",
    "gnb.fit(train_features, train_labels)\n",
    "y_pred = gnb.predict(test_features)\n",
    "print(\"Classification report My GNB:\\n%s\\n\"\n",
    "  % (metrics.classification_report(test_labels, y_pred)))\n",
    "print(\"Confusion matrix My GNB:\\n%s\" % metrics.confusion_matrix(test_labels, y_pred))"
   ]
  }
 ],
 "metadata": {
  "kernelspec": {
   "display_name": "Python 3",
   "language": "python",
   "name": "python3"
  },
  "language_info": {
   "codemirror_mode": {
    "name": "ipython",
    "version": 3
   },
   "file_extension": ".py",
   "mimetype": "text/x-python",
   "name": "python",
   "nbconvert_exporter": "python",
   "pygments_lexer": "ipython3",
   "version": "3.7.3"
  }
 },
 "nbformat": 4,
 "nbformat_minor": 4
}
