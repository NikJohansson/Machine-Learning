{
 "cells": [
  {
   "cell_type": "markdown",
   "metadata": {},
   "source": [
    "# Programming Assignment #4: Recurrent Neural Networks\n",
    "Author: Pierre Nugues"
   ]
  },
  {
   "cell_type": "markdown",
   "metadata": {},
   "source": [
    "## Objectives"
   ]
  },
  {
   "cell_type": "markdown",
   "metadata": {},
   "source": [
    "The objectives of this assignment are to:\n",
    "* Write a program to recognize named entities in text\n",
    "* Learn how to manage a text data set\n",
    "* Apply recurrent neural networks to text\n",
    "* Know what word embeddings are\n",
    "* Write a short report on your experiments. This report is mandatory to pass the assignment."
   ]
  },
  {
   "cell_type": "markdown",
   "metadata": {},
   "source": [
    "## Organization and location"
   ]
  },
  {
   "cell_type": "markdown",
   "metadata": {},
   "source": [
    "You can work alone or collaborate with another student:\n",
    "* Each group will have to write Python programs to recognize named entities in text.\n",
    "* You will have to experiment different architectures, namely RNN and LSTM, and compare the results you obtained.\n",
    "* Each student will have to write an individual report on these experiments."
   ]
  },
  {
   "cell_type": "markdown",
   "metadata": {},
   "source": [
    "## Imports"
   ]
  },
  {
   "cell_type": "code",
   "execution_count": 2,
   "metadata": {},
   "outputs": [],
   "source": [
    "import sys\n",
    "import regex as re\n",
    "import numpy as np\n",
    "from numpy.linalg import norm\n",
    "from scipy.spatial.distance import cosine\n",
    "import matplotlib.pyplot as plt\n",
    "from sklearn.preprocessing import normalize\n",
    "from keras.models import Sequential\n",
    "from keras.layers import Embedding, Flatten, Dense, Dropout, Lambda, TimeDistributed\n",
    "from keras.layers import LSTM, Bidirectional, SimpleRNN, BatchNormalization\n",
    "from keras.models import Model\n",
    "from keras.preprocessing.sequence import pad_sequences\n",
    "from keras.utils.np_utils import to_categorical\n",
    "from keras.activations import softmax\n",
    "\n",
    "EPOCHS = 15\n",
    "LSTM_UNITS = 100"
   ]
  },
  {
   "cell_type": "markdown",
   "metadata": {},
   "source": [
    "## Collecting a Dataset"
   ]
  },
  {
   "cell_type": "markdown",
   "metadata": {},
   "source": [
    "1. You will use a dataset from the CoNLL conferences that benchmark natural language processing systems and tasks. There were two conferences on named entity recognition: <a href=\"https://www.clips.uantwerpen.be/conll2002/ner/\">CoNLL 2002</a> (Spanish and Dutch) and <a href=\"https://www.clips.uantwerpen.be/conll2003/ner/\">CoNLL 2003</a> (English and German). In this assignment, you will work on the English dataset. Read the description of the task.\n",
    "2. The datasets are protected by a license and you need to obtain it to reconstruct the data. Alternatively, you can try to find one on github (type conll2003 in the search box) or use the Google dataset search: <a href=\"https://toolbox.google.com/datasetsearch\">https://toolbox.google.com/datasetsearch</a>. All this may take time and your teacher created a local copy in the `/usr/local/cs/EDAN95/datasets/NER-data` folder.\n",
    "3. The dataset comes in the form of three files: a training set, a development set, and a test set. <!--, named:\n",
    "    <tt>eng.train</tt>, <tt>eng.testa</tt> (validation), and <tt>eng.testb</tt> (test).-->"
   ]
  },
  {
   "cell_type": "markdown",
   "metadata": {},
   "source": [
    "## Reading the Corpus"
   ]
  },
  {
   "cell_type": "markdown",
   "metadata": {},
   "source": [
    "You will read the corpus with the cells below. The functions will enable you to load the files in the form of a list of dictionaries."
   ]
  },
  {
   "cell_type": "code",
   "execution_count": 3,
   "metadata": {},
   "outputs": [],
   "source": [
    "BASE_DIR = 'CoNLL2003/'"
   ]
  },
  {
   "cell_type": "code",
   "execution_count": 4,
   "metadata": {},
   "outputs": [],
   "source": [
    "def load_conll2003_en():\n",
    "    train_file = BASE_DIR + 'train.txt'\n",
    "    dev_file = BASE_DIR + 'valid.txt'\n",
    "    test_file = BASE_DIR + 'test.txt'\n",
    "    column_names = ['form', 'ppos', 'pchunk', 'ner']\n",
    "    train_sentences = open(train_file, encoding='utf8').read().strip()\n",
    "    dev_sentences = open(dev_file, encoding='utf8').read().strip()\n",
    "    test_sentences = open(test_file, encoding='utf8').read().strip()\n",
    "    return train_sentences, dev_sentences, test_sentences, column_names"
   ]
  },
  {
   "cell_type": "code",
   "execution_count": 5,
   "metadata": {},
   "outputs": [
    {
     "data": {
      "text/plain": [
       "'-DOCSTART- -X- -X- O\\n\\nEU NNP B-NP B-ORG\\nrejects VBZ B-VP O\\nGerman JJ B-NP B-MISC\\ncall NN I-NP O\\nto T'"
      ]
     },
     "execution_count": 5,
     "metadata": {},
     "output_type": "execute_result"
    }
   ],
   "source": [
    "train_sentences, dev_sentences, test_sentences, column_names = load_conll2003_en()\n",
    "train_sentences[:100]"
   ]
  },
  {
   "cell_type": "code",
   "execution_count": 6,
   "metadata": {},
   "outputs": [],
   "source": [
    "class Token(dict):\n",
    "    pass\n",
    "\n",
    "\n",
    "class CoNLLDictorizer:\n",
    "\n",
    "    def __init__(self, column_names, sent_sep='\\n\\n', col_sep=' +'):\n",
    "        self.column_names = column_names\n",
    "        self.sent_sep = sent_sep\n",
    "        self.col_sep = col_sep\n",
    "\n",
    "    def fit(self):\n",
    "        pass\n",
    "\n",
    "    def transform(self, corpus):\n",
    "        corpus = corpus.strip()\n",
    "        sentences = re.split(self.sent_sep, corpus)\n",
    "        return list(map(self._split_in_words, sentences))\n",
    "\n",
    "    def fit_transform(self, corpus):\n",
    "        return self.transform(corpus)\n",
    "\n",
    "    def _split_in_words(self, sentence):\n",
    "        rows = re.split('\\n', sentence)\n",
    "        return [Token(dict(zip(self.column_names,\n",
    "                               re.split(self.col_sep, row))))\n",
    "                for row in rows]"
   ]
  },
  {
   "cell_type": "code",
   "execution_count": 7,
   "metadata": {},
   "outputs": [],
   "source": [
    "conll_dict = CoNLLDictorizer(column_names, col_sep=' +')\n",
    "train_dict = conll_dict.transform(train_sentences)\n",
    "dev_dict = conll_dict.transform(dev_sentences)\n",
    "test_dict = conll_dict.transform(test_sentences)"
   ]
  },
  {
   "cell_type": "code",
   "execution_count": 49,
   "metadata": {},
   "outputs": [
    {
     "name": "stdout",
     "output_type": "stream",
     "text": [
      "[{'form': 'EU', 'ppos': 'NNP', 'pchunk': 'B-NP', 'ner': 'B-ORG'}, {'form': 'rejects', 'ppos': 'VBZ', 'pchunk': 'B-VP', 'ner': 'O'}, {'form': 'German', 'ppos': 'JJ', 'pchunk': 'B-NP', 'ner': 'B-MISC'}, {'form': 'call', 'ppos': 'NN', 'pchunk': 'I-NP', 'ner': 'O'}, {'form': 'to', 'ppos': 'TO', 'pchunk': 'B-VP', 'ner': 'O'}, {'form': 'boycott', 'ppos': 'VB', 'pchunk': 'I-VP', 'ner': 'O'}, {'form': 'British', 'ppos': 'JJ', 'pchunk': 'B-NP', 'ner': 'B-MISC'}, {'form': 'lamb', 'ppos': 'NN', 'pchunk': 'I-NP', 'ner': 'O'}, {'form': '.', 'ppos': '.', 'pchunk': 'O', 'ner': 'O'}]\n",
      "{'form': 'EU', 'ppos': 'NNP', 'pchunk': 'B-NP', 'ner': 'B-ORG'}\n",
      "{'form': 'rejects', 'ppos': 'VBZ', 'pchunk': 'B-VP', 'ner': 'O'}\n",
      "{'form': 'German', 'ppos': 'JJ', 'pchunk': 'B-NP', 'ner': 'B-MISC'}\n",
      "{'form': 'call', 'ppos': 'NN', 'pchunk': 'I-NP', 'ner': 'O'}\n",
      "{'form': 'to', 'ppos': 'TO', 'pchunk': 'B-VP', 'ner': 'O'}\n",
      "{'form': 'boycott', 'ppos': 'VB', 'pchunk': 'I-VP', 'ner': 'O'}\n",
      "{'form': 'British', 'ppos': 'JJ', 'pchunk': 'B-NP', 'ner': 'B-MISC'}\n",
      "{'form': 'lamb', 'ppos': 'NN', 'pchunk': 'I-NP', 'ner': 'O'}\n",
      "{'form': '.', 'ppos': '.', 'pchunk': 'O', 'ner': 'O'}\n",
      "{'form': 'Peter', 'ppos': 'NNP', 'pchunk': 'B-NP', 'ner': 'B-PER'}\n",
      "{'form': 'Blackburn', 'ppos': 'NNP', 'pchunk': 'I-NP', 'ner': 'I-PER'}\n"
     ]
    }
   ],
   "source": [
    "print(train_dict[1])\n",
    "print('\\n'.join(map(str, train_dict[1])))\n",
    "print('\\n'.join(map(str, train_dict[2])))"
   ]
  },
  {
   "cell_type": "markdown",
   "metadata": {},
   "source": [
    "## Evaluating your Models"
   ]
  },
  {
   "cell_type": "markdown",
   "metadata": {},
   "source": [
    "You will train the models with the traiing set and the test set to evaluate them. For this, you will apply the `conlleval` script that will compute the harmonic mean of the precision and recall: F1. \n",
    "\n",
    "`conlleval` was written in Perl and you have a local copy of this script in `/usr/local/cs/EDAN95/datasets/ner/bin`. Some people rewrote it in Python and you will use such such a translation in this lab. The line below installs it."
   ]
  },
  {
   "cell_type": "code",
   "execution_count": 9,
   "metadata": {},
   "outputs": [
    {
     "name": "stdout",
     "output_type": "stream",
     "text": [
      "Requirement already satisfied: conlleval in c:\\users\\lilln\\anaconda3\\lib\\site-packages (0.2)\n"
     ]
    }
   ],
   "source": [
    "!pip install conlleval\n",
    "import conlleval"
   ]
  },
  {
   "cell_type": "markdown",
   "metadata": {},
   "source": [
    "## Collecting the Embeddings"
   ]
  },
  {
   "cell_type": "markdown",
   "metadata": {},
   "source": [
    "You will represent the words with the GloVe embeddings:\n",
    "1. Download the GloVe embeddings 6B from <a href=\"https://nlp.stanford.edu/projects/glove/\">https://nlp.stanford.edu/projects/glove/</a> and keep the 100d vectors.\n",
    "2. You have a local copy of this script in `/usr/local/cs/EDAN95/datasets/`;\n",
    "3. Apply a function that reads GloVe embeddings and store them in a dictionary, where the keys will be the words and the values, the embeddings."
   ]
  },
  {
   "cell_type": "code",
   "execution_count": 10,
   "metadata": {},
   "outputs": [],
   "source": [
    "embedding_file = 'glove.6B.100d.txt'"
   ]
  },
  {
   "cell_type": "code",
   "execution_count": 11,
   "metadata": {},
   "outputs": [],
   "source": [
    "def read_embeddings(file):\n",
    "    \"\"\"\n",
    "    Return the embeddings in the from of a dictionary\n",
    "    :param file:\n",
    "    :return:\n",
    "    \"\"\"\n",
    "    embeddings = {}\n",
    "    glove = open(file, encoding='utf8')\n",
    "    for line in glove:\n",
    "        values = line.strip().split()\n",
    "        word = values[0]\n",
    "        vector = np.array(values[1:], dtype='float32')\n",
    "        embeddings[word] = vector\n",
    "    glove.close()\n",
    "    return embeddings"
   ]
  },
  {
   "cell_type": "code",
   "execution_count": 12,
   "metadata": {},
   "outputs": [
    {
     "name": "stdout",
     "output_type": "stream",
     "text": [
      "# words in embedding dictionary: 400000\n"
     ]
    }
   ],
   "source": [
    "# We read the embeddings\n",
    "embeddings_dict = read_embeddings(embedding_file)\n",
    "embedded_words = sorted(list(embeddings_dict.keys()))\n",
    "print('# words in embedding dictionary:', len(embedded_words))"
   ]
  },
  {
   "cell_type": "markdown",
   "metadata": {},
   "source": [
    "Using a cosine similarity, write a `closest(target_word, embeddings, count=10)` that computes the 5 closest words to the words _table_, _france_, and _sweden_"
   ]
  },
  {
   "cell_type": "code",
   "execution_count": 13,
   "metadata": {},
   "outputs": [],
   "source": [
    "# Write your code here\n",
    "def closest(target_word, embeddings, count=10):\n",
    "    similar={}\n",
    "    for word in embeddings:\n",
    "        a=embeddings[target_word];\n",
    "        b=embeddings[word]\n",
    "        similar[word]= np.dot(a, b)/(np.linalg.norm(a)*np.linalg.norm(b))\n",
    "    similar_sorted=[(k,v) for k, v in sorted(similar.items(), key=lambda item: item[1], reverse=True)]\n",
    "    return [x[0] for x in similar_sorted[:count]]\n",
    "#print(list(embeddings_dict.items())[:10])"
   ]
  },
  {
   "cell_type": "code",
   "execution_count": 14,
   "metadata": {},
   "outputs": [
    {
     "data": {
      "text/plain": [
       "['france',\n",
       " 'belgium',\n",
       " 'french',\n",
       " 'britain',\n",
       " 'spain',\n",
       " 'paris',\n",
       " 'germany',\n",
       " 'italy',\n",
       " 'europe',\n",
       " 'netherlands']"
      ]
     },
     "execution_count": 14,
     "metadata": {},
     "output_type": "execute_result"
    }
   ],
   "source": [
    "closest('france', embeddings_dict)"
   ]
  },
  {
   "cell_type": "markdown",
   "metadata": {},
   "source": [
    "## Extracting the $\\mathbf{X}$ and $\\mathbf{Y}$ Lists of Symbols"
   ]
  },
  {
   "cell_type": "markdown",
   "metadata": {},
   "source": [
    "Write a `build_sequences(corpus_dict, key_x='form', key_y='ner', tolower=True)` function that for each sentence returns the $\\mathbf{x}$ and $\\mathbf{y}$ lists of symbols consisting of words and NER tags."
   ]
  },
  {
   "cell_type": "code",
   "execution_count": 15,
   "metadata": {},
   "outputs": [],
   "source": [
    "# Write your code\n",
    "def build_sequences(corpus_dict, key_x='form', key_y='ner', tolower=True):\n",
    "    X=[]\n",
    "    Y=[]\n",
    "    for sentence in corpus_dict:\n",
    "        x=[]\n",
    "        y=[]\n",
    "        for word in sentence:\n",
    "            if(tolower):\n",
    "                x.append(word[key_x].lower())\n",
    "                y.append(word[key_y])\n",
    "            else:\n",
    "                x.append(word[key_x])\n",
    "                x.append(word[key_y])\n",
    "        X.append(x)\n",
    "        Y.append(y)\n",
    "    return X, Y\n",
    "        \n"
   ]
  },
  {
   "cell_type": "markdown",
   "metadata": {},
   "source": [
    "Apply this function to your datasets so that you create $\\mathbf{X}$ and $\\mathbf{Y}$ lists of lists consisting of words and NER tags\n",
    "        \n",
    "For the second sentence of the training set, you should have:<br/>\n",
    "<tt>x = ['eu', 'rejects', 'german', 'call', 'to', 'boycott', 'british', 'lamb', '.']</tt><br/>\n",
    "<tt>y = ['I-ORG', 'O', 'I-MISC', 'O', 'O', 'O', 'I-MISC', 'O', 'O']</tt><br/>\n",
    "Some datasets you may find on the web use a different NER tagset, where <tt>I-</tt> is\n",
    "replaced with <tt>B-</tt>, like <tt>B-ORG</tt> instead of <tt>I-ORG</tt>. This will not change the results."
   ]
  },
  {
   "cell_type": "code",
   "execution_count": 45,
   "metadata": {},
   "outputs": [
    {
     "name": "stdout",
     "output_type": "stream",
     "text": [
      "First sentence, words ['eu', 'rejects', 'german', 'call', 'to', 'boycott', 'british', 'lamb', '.']\n",
      "First sentence, NER ['B-ORG', 'O', 'B-MISC', 'O', 'O', 'O', 'B-MISC', 'O', 'O']\n"
     ]
    }
   ],
   "source": [
    "X, Y = build_sequences(train_dict, key_x='form', key_y='ner')\n",
    "print('First sentence, words', X[1])\n",
    "print('First sentence, NER', Y[1])"
   ]
  },
  {
   "cell_type": "markdown",
   "metadata": {},
   "source": [
    "## Vocabulary"
   ]
  },
  {
   "cell_type": "markdown",
   "metadata": {},
   "source": [
    "Create a vocabulary of all the words observed in the training set and the words in GloVe. You should find 402,595 different words. You will proceed in two steps.\n",
    "\n",
    "First extract the list of unique words from the CoNLL training set and the list of tags. You will sort them"
   ]
  },
  {
   "cell_type": "code",
   "execution_count": 32,
   "metadata": {},
   "outputs": [],
   "source": [
    "# Write your code: List of words and tags in CoNLL\n",
    "ner= set()\n",
    "for y in Y:\n",
    "    ner= ner.union(set(y))\n",
    "words= set()\n",
    "ner=list(ner)\n",
    "ner.sort()\n",
    "for x in X:\n",
    "    words= words.union(set(x))\n",
    "words=list(words)\n",
    "words.sort()\n",
    "#print(list(words)[:10])\n",
    "#print(list(ner)[:10])"
   ]
  },
  {
   "cell_type": "code",
   "execution_count": 33,
   "metadata": {},
   "outputs": [
    {
     "name": "stdout",
     "output_type": "stream",
     "text": [
      "# words seen in training corpus: 21010\n",
      "# NER tags seen: 9\n"
     ]
    }
   ],
   "source": [
    "print('# words seen in training corpus:', len(words))\n",
    "print('# NER tags seen:', len(ner))"
   ]
  },
  {
   "cell_type": "markdown",
   "metadata": {},
   "source": [
    "Then merge the list of unique CoNLL words with the words in the embedding file. You will sort this list"
   ]
  },
  {
   "cell_type": "code",
   "execution_count": 23,
   "metadata": {},
   "outputs": [],
   "source": [
    "# Write your code: Add vocabulary of embedded words\n",
    "vocabulary_words=list(set(embedded_words + words))\n",
    "vocabulary_words.sort()"
   ]
  },
  {
   "cell_type": "code",
   "execution_count": 34,
   "metadata": {},
   "outputs": [
    {
     "name": "stdout",
     "output_type": "stream",
     "text": [
      "# words in the vocabulary: embeddings and corpus: 402595\n"
     ]
    }
   ],
   "source": [
    "print('# words in the vocabulary: embeddings and corpus:', len(vocabulary_words))"
   ]
  },
  {
   "cell_type": "markdown",
   "metadata": {},
   "source": [
    "## Index"
   ]
  },
  {
   "cell_type": "markdown",
   "metadata": {},
   "source": [
    "Create indices `word2idx`, `ner2idx` and inverted indices `idx2word`, `idx2ner` for the words and the NER: i.e. you will associate each word with a number. You will use index 0 for the padding symbol and 1 for unknown words."
   ]
  },
  {
   "cell_type": "code",
   "execution_count": 35,
   "metadata": {},
   "outputs": [],
   "source": [
    "# Write your code:\n",
    "word2idx=dict()\n",
    "ner2idx=dict()\n",
    "idx2word=dict()\n",
    "idx2ner=dict()\n",
    "for i, word in enumerate(vocabulary_words, start=2):\n",
    "    word2idx[word]=i\n",
    "    idx2word[i]=word\n",
    "for i, tag in enumerate(ner, start=2):\n",
    "    ner2idx[tag]=i\n",
    "    idx2ner[i]=tag"
   ]
  },
  {
   "cell_type": "code",
   "execution_count": 36,
   "metadata": {},
   "outputs": [
    {
     "name": "stdout",
     "output_type": "stream",
     "text": [
      "word index: [('!', 2), ('!!', 3), ('!!!', 4), ('!!!!', 5), ('!!!!!', 6), ('!?', 7), ('!?!', 8), ('\"', 9), ('#', 10), ('##', 11), ('###', 12), ('#a', 13), ('#aabccc', 14), ('#b', 15), ('#c', 16), ('#cc', 17), ('#ccc', 18), ('#cccccc', 19), ('#ccccff', 20), ('#d', 21), ('#daa', 22), ('#dcdcdc', 23), ('#e', 24), ('#f', 25), ('#faf', 26)]\n",
      "NER index: [('B-LOC', 2), ('B-MISC', 3), ('B-ORG', 4), ('B-PER', 5), ('I-LOC', 6), ('I-MISC', 7), ('I-ORG', 8), ('I-PER', 9), ('O', 10)]\n"
     ]
    }
   ],
   "source": [
    "print('word index:', list(word2idx.items())[:25])\n",
    "print('NER index:', list(ner2idx.items())[:25])"
   ]
  },
  {
   "cell_type": "markdown",
   "metadata": {},
   "source": [
    "## Embedding Matrix"
   ]
  },
  {
   "cell_type": "markdown",
   "metadata": {},
   "source": [
    "Create a matrix of dimensions $(M, N)$, where $M$ will be the size of the vocabulary: The unique words in the training set and the words in GloVe, and $N$, the dimension of the embeddings.\n",
    "The padding symbol and the unknown word symbol will be part of the vocabulary. The shape of your matrix should be: (402597, 100). Initialize it with random values."
   ]
  },
  {
   "cell_type": "code",
   "execution_count": 38,
   "metadata": {},
   "outputs": [],
   "source": [
    "# Write your code here\n",
    "embedding_matrix = np.random.random((402597, 100))"
   ]
  },
  {
   "cell_type": "code",
   "execution_count": 39,
   "metadata": {},
   "outputs": [
    {
     "name": "stdout",
     "output_type": "stream",
     "text": [
      "Shape of embedding matrix: (402597, 100)\n"
     ]
    }
   ],
   "source": [
    "print('Shape of embedding matrix:', embedding_matrix.shape)"
   ]
  },
  {
   "cell_type": "markdown",
   "metadata": {},
   "source": [
    "Fill the matrix with the GloVe embeddings when available. You will use the indices from the previous section. You will call `out_of_embeddings` the list of words in CoNLL, but not in the embedding list."
   ]
  },
  {
   "cell_type": "code",
   "execution_count": 40,
   "metadata": {},
   "outputs": [],
   "source": [
    "# Write your code\n",
    "out_of_embeddings=list()\n",
    "for word in vocabulary_words:\n",
    "    if word in embeddings_dict:\n",
    "        embedding_matrix[word2idx[word]]=embeddings_dict[word]\n",
    "    else:\n",
    "        out_of_embeddings.append(word)\n",
    "    "
   ]
  },
  {
   "cell_type": "code",
   "execution_count": 41,
   "metadata": {},
   "outputs": [
    {
     "name": "stdout",
     "output_type": "stream",
     "text": [
      "Out of embeddings: 2595\n"
     ]
    },
    {
     "data": {
      "text/plain": [
       "['zelezarny',\n",
       " 'zhilan',\n",
       " 'zieger',\n",
       " 'zighayer',\n",
       " 'zilinskiene',\n",
       " 'zirka-nibas',\n",
       " 'zuleeg',\n",
       " 'zundra',\n",
       " 'zwingmann',\n",
       " 'zyrecha']"
      ]
     },
     "execution_count": 41,
     "metadata": {},
     "output_type": "execute_result"
    }
   ],
   "source": [
    "print('Out of embeddings:', len(out_of_embeddings))\n",
    "out_of_embeddings[-10:]"
   ]
  },
  {
   "cell_type": "code",
   "execution_count": 42,
   "metadata": {},
   "outputs": [
    {
     "name": "stdout",
     "output_type": "stream",
     "text": [
      "Embedding of the padding symbol, idx 0, random numbers [0.18414153 0.91089015 0.5921205  0.0066682  0.72071999 0.00150001\n",
      " 0.32404705 0.76536757 0.1022689  0.03307111]\n",
      "Embedding of table [-0.61453998  0.89692998  0.56770998  0.39102    -0.22437     0.49035001\n",
      "  0.10868     0.27410999 -0.23833001 -0.52152997]\n",
      "Embedding of zwingmann, random numbers [0.63129337 0.75299177 0.88643399 0.83377997 0.62687731 0.33497669\n",
      " 0.6968366  0.36356192 0.05907878 0.23685706]\n"
     ]
    }
   ],
   "source": [
    "print('Embedding of the padding symbol, idx 0, random numbers', embedding_matrix[0][:10])\n",
    "print('Embedding of table', embedding_matrix[word2idx['table']][:10])\n",
    "print('Embedding of zwingmann, random numbers', embedding_matrix[word2idx['zwingmann']][:10])"
   ]
  },
  {
   "cell_type": "markdown",
   "metadata": {},
   "source": [
    "## Creating the $\\mathbf{X}$ and $\\mathbf{Y}$ Sequences"
   ]
  },
  {
   "cell_type": "markdown",
   "metadata": {},
   "source": [
    "You will now create the input and output sequences with numerical indices. First, convert the $\\mathbf{X}$ and $\\mathbf{Y}$ lists of symbols in lists of numbers using the indices you created"
   ]
  },
  {
   "cell_type": "code",
   "execution_count": 47,
   "metadata": {},
   "outputs": [],
   "source": [
    "# Write your code\n",
    "# We create the parallel sequences of indexes\n",
    "X_idx=X.copy()\n",
    "Y_idx=Y.copy()\n",
    "for i, x in enumerate(X):\n",
    "    for j, element in enumerate(x):\n",
    "        X_idx[i][j]=word2idx[element]\n",
    "        \n",
    "for i, y in enumerate(Y):\n",
    "    for j, element in enumerate(y):\n",
    "        Y_idx[i][j]=ner2idx[element]"
   ]
  },
  {
   "cell_type": "code",
   "execution_count": 48,
   "metadata": {},
   "outputs": [
    {
     "name": "stdout",
     "output_type": "stream",
     "text": [
      "First sentences, word indices [[935], [142143, 307143, 161836, 91321, 363368, 83766, 85852, 218260, 936], [284434, 79019]]\n",
      "First sentences, POS indices [[10], [4, 10, 3, 10, 10, 10, 3, 10, 10], [5, 9]]\n"
     ]
    }
   ],
   "source": [
    "print('First sentences, word indices', X_idx[:3])\n",
    "print('First sentences, POS indices', Y_idx[:3])"
   ]
  },
  {
   "cell_type": "markdown",
   "metadata": {},
   "source": [
    "Pad the sentences using the <tt>pad_sequences</tt> function. As maximum length and `maxlen` argument, you will use 150 or greater. What matters is that you have a length that is larger than the maximum length observed in your training and development corpora. After padding, the second sentence you look like (the indices are not necessarily the same).\n",
    "```\n",
    "x = [     0      0      0      0      0      0      0      0      0      0\n",
    "0      0      0      0      0      0      0      0      0      0\n",
    "0      0      0      0      0      0      0      0      0      0\n",
    "0      0      0      0      0      0      0      0      0      0\n",
    "0      0      0      0      0      0      0      0      0      0\n",
    "0      0      0      0      0      0      0      0      0      0\n",
    "0      0      0      0      0      0      0      0      0      0\n",
    "0      0      0      0      0      0      0      0      0      0\n",
    "0      0      0      0      0      0      0      0      0      0\n",
    "0      0      0      0      0      0      0      0      0      0\n",
    "0      0      0      0      0      0      0      0      0      0\n",
    "0      0      0      0      0      0      0      0      0      0\n",
    "0      0      0      0      0      0      0      0      0      0\n",
    "0      0      0      0      0      0      0      0      0      0\n",
    "0 142143 307143 161836  91321 363368  83766  85852 218260    936]\n",
    "y = [0 0 0 0 0 0 0 0 0 0 0 0 0 0 0 0 0 0 0 0 0 0 0 0 0 0 0 0 0 0 0 0 0 0 0 0 0\n",
    "0 0 0 0 0 0 0 0 0 0 0 0 0 0 0 0 0 0 0 0 0 0 0 0 0 0 0 0 0 0 0 0 0 0 0 0 0\n",
    "0 0 0 0 0 0 0 0 0 0 0 0 0 0 0 0 0 0 0 0 0 0 0 0 0 0 0 0 0 0 0 0 0 0 0 0 0\n",
    "0 0 0 0 0 0 0 0 0 0 0 0 0 0 0 0 0 0 0 0 0 0 0 0 0 0 0 0 0 0 7 9 6 9 9 9 6\n",
    "9 9]\n",
    "```"
   ]
  },
  {
   "cell_type": "code",
   "execution_count": 50,
   "metadata": {},
   "outputs": [],
   "source": [
    "# Write your code\n",
    "X=pad_sequences(X_idx, padding='post', maxlen=150)\n",
    "Y=pad_sequences(Y_idx, padding='post', maxlen=150)"
   ]
  },
  {
   "cell_type": "code",
   "execution_count": 51,
   "metadata": {},
   "outputs": [
    {
     "name": "stdout",
     "output_type": "stream",
     "text": [
      "[142143 307143 161836  91321 363368  83766  85852 218260    936      0\n",
      "      0      0      0      0      0      0      0      0      0      0\n",
      "      0      0      0      0      0      0      0      0      0      0\n",
      "      0      0      0      0      0      0      0      0      0      0\n",
      "      0      0      0      0      0      0      0      0      0      0\n",
      "      0      0      0      0      0      0      0      0      0      0\n",
      "      0      0      0      0      0      0      0      0      0      0\n",
      "      0      0      0      0      0      0      0      0      0      0\n",
      "      0      0      0      0      0      0      0      0      0      0\n",
      "      0      0      0      0      0      0      0      0      0      0\n",
      "      0      0      0      0      0      0      0      0      0      0\n",
      "      0      0      0      0      0      0      0      0      0      0\n",
      "      0      0      0      0      0      0      0      0      0      0\n",
      "      0      0      0      0      0      0      0      0      0      0\n",
      "      0      0      0      0      0      0      0      0      0      0]\n",
      "[ 4 10  3 10 10 10  3 10 10  0  0  0  0  0  0  0  0  0  0  0  0  0  0  0\n",
      "  0  0  0  0  0  0  0  0  0  0  0  0  0  0  0  0  0  0  0  0  0  0  0  0\n",
      "  0  0  0  0  0  0  0  0  0  0  0  0  0  0  0  0  0  0  0  0  0  0  0  0\n",
      "  0  0  0  0  0  0  0  0  0  0  0  0  0  0  0  0  0  0  0  0  0  0  0  0\n",
      "  0  0  0  0  0  0  0  0  0  0  0  0  0  0  0  0  0  0  0  0  0  0  0  0\n",
      "  0  0  0  0  0  0  0  0  0  0  0  0  0  0  0  0  0  0  0  0  0  0  0  0\n",
      "  0  0  0  0  0  0]\n"
     ]
    }
   ],
   "source": [
    "print(X[1])\n",
    "print(Y[1])"
   ]
  },
  {
   "cell_type": "code",
   "execution_count": 54,
   "metadata": {},
   "outputs": [],
   "source": [
    "# Write your code\n",
    "y_train = to_categorical(Y, num_classes=len(ner)+2)"
   ]
  },
  {
   "cell_type": "code",
   "execution_count": 56,
   "metadata": {},
   "outputs": [
    {
     "data": {
      "text/plain": [
       "array([[0., 0., 0., 0., 1., 0., 0., 0., 0., 0., 0.],\n",
       "       [0., 0., 0., 0., 0., 0., 0., 0., 0., 0., 1.],\n",
       "       [0., 0., 0., 1., 0., 0., 0., 0., 0., 0., 0.],\n",
       "       [0., 0., 0., 0., 0., 0., 0., 0., 0., 0., 1.],\n",
       "       [0., 0., 0., 0., 0., 0., 0., 0., 0., 0., 1.],\n",
       "       [0., 0., 0., 0., 0., 0., 0., 0., 0., 0., 1.],\n",
       "       [0., 0., 0., 1., 0., 0., 0., 0., 0., 0., 0.],\n",
       "       [0., 0., 0., 0., 0., 0., 0., 0., 0., 0., 1.],\n",
       "       [0., 0., 0., 0., 0., 0., 0., 0., 0., 0., 1.],\n",
       "       [1., 0., 0., 0., 0., 0., 0., 0., 0., 0., 0.]], dtype=float32)"
      ]
     },
     "execution_count": 56,
     "metadata": {},
     "output_type": "execute_result"
    }
   ],
   "source": [
    "y_train[1][:10]"
   ]
  },
  {
   "cell_type": "markdown",
   "metadata": {},
   "source": [
    "Do the same for the development set: Build the sequences, map them to indices, pad them, and create $\\mathbf{Y}$ vectors"
   ]
  },
  {
   "cell_type": "code",
   "execution_count": 59,
   "metadata": {},
   "outputs": [
    {
     "name": "stdout",
     "output_type": "stream",
     "text": [
      "[{'form': 'CRICKET', 'ppos': 'NNP', 'pchunk': 'B-NP', 'ner': 'O'}, {'form': '-', 'ppos': ':', 'pchunk': 'O', 'ner': 'O'}, {'form': 'LEICESTERSHIRE', 'ppos': 'NNP', 'pchunk': 'B-NP', 'ner': 'B-ORG'}, {'form': 'TAKE', 'ppos': 'NNP', 'pchunk': 'I-NP', 'ner': 'O'}, {'form': 'OVER', 'ppos': 'IN', 'pchunk': 'B-PP', 'ner': 'O'}, {'form': 'AT', 'ppos': 'NNP', 'pchunk': 'B-NP', 'ner': 'O'}, {'form': 'TOP', 'ppos': 'NNP', 'pchunk': 'I-NP', 'ner': 'O'}, {'form': 'AFTER', 'ppos': 'NNP', 'pchunk': 'I-NP', 'ner': 'O'}, {'form': 'INNINGS', 'ppos': 'NNP', 'pchunk': 'I-NP', 'ner': 'O'}, {'form': 'VICTORY', 'ppos': 'NN', 'pchunk': 'I-NP', 'ner': 'O'}, {'form': '.', 'ppos': '.', 'pchunk': 'O', 'ner': 'O'}]\n"
     ]
    },
    {
     "data": {
      "text/plain": [
       "array([[0., 0., 0., 0., 0., 0., 0., 0., 0., 0., 1.],\n",
       "       [0., 0., 0., 0., 0., 0., 0., 0., 0., 0., 1.],\n",
       "       [0., 0., 0., 0., 1., 0., 0., 0., 0., 0., 0.],\n",
       "       [0., 0., 0., 0., 0., 0., 0., 0., 0., 0., 1.],\n",
       "       [0., 0., 0., 0., 0., 0., 0., 0., 0., 0., 1.],\n",
       "       [0., 0., 0., 0., 0., 0., 0., 0., 0., 0., 1.],\n",
       "       [0., 0., 0., 0., 0., 0., 0., 0., 0., 0., 1.],\n",
       "       [0., 0., 0., 0., 0., 0., 0., 0., 0., 0., 1.],\n",
       "       [0., 0., 0., 0., 0., 0., 0., 0., 0., 0., 1.],\n",
       "       [0., 0., 0., 0., 0., 0., 0., 0., 0., 0., 1.]], dtype=float32)"
      ]
     },
     "execution_count": 59,
     "metadata": {},
     "output_type": "execute_result"
    }
   ],
   "source": [
    "# Write your code\n",
    "X_dev, Y_dev = build_sequences(dev_dict, key_x='form', key_y='ner')\n",
    "\n",
    "X_idx=X_dev.copy()\n",
    "Y_idx=Y_dev.copy()\n",
    "for i, x in enumerate(X_dev):\n",
    "    for j, element in enumerate(x):\n",
    "        if element in word2idx:\n",
    "            X_idx[i][j]=word2idx[element]\n",
    "        else:\n",
    "            X_idx[i][j]=1\n",
    "        \n",
    "for i, y in enumerate(Y_dev):\n",
    "    for j, element in enumerate(y):\n",
    "        if element in ner2idx:\n",
    "            Y_idx[i][j]=ner2idx[element]\n",
    "        else:\n",
    "            Y_idx[i][j]=1\n",
    "        \n",
    "X_dev=pad_sequences(X_idx, padding='post', maxlen=150)\n",
    "Y_dev=pad_sequences(Y_idx, padding='post', maxlen=150)\n",
    "\n",
    "y_dev= to_categorical(Y_dev, num_classes=len(ner)+2)\n",
    "print(dev_dict[1])\n",
    "y_dev[1][:10]"
   ]
  },
  {
   "cell_type": "markdown",
   "metadata": {},
   "source": [
    "## Building a Simple Recurrent Neural Network"
   ]
  },
  {
   "cell_type": "markdown",
   "metadata": {},
   "source": [
    "Create a simple recurrent network and train a model with the training set. As layers, you will use `Embedding`, `SimpleRNN`, and `Dense`."
   ]
  },
  {
   "cell_type": "code",
   "execution_count": 63,
   "metadata": {},
   "outputs": [
    {
     "name": "stdout",
     "output_type": "stream",
     "text": [
      "Model: \"sequential_2\"\n",
      "_________________________________________________________________\n",
      "Layer (type)                 Output Shape              Param #   \n",
      "=================================================================\n",
      "embedding_1 (Embedding)      (None, None, 100)         40259700  \n",
      "_________________________________________________________________\n",
      "simple_rnn_1 (SimpleRNN)     (None, None, 100)         20100     \n",
      "_________________________________________________________________\n",
      "dense_1 (Dense)              (None, None, 11)          1111      \n",
      "=================================================================\n",
      "Total params: 40,280,911\n",
      "Trainable params: 40,280,911\n",
      "Non-trainable params: 0\n",
      "_________________________________________________________________\n"
     ]
    }
   ],
   "source": [
    "# Write your code\n",
    "model =Sequential()\n",
    "model.add(Embedding(len(vocabulary_words) + 2, 100, mask_zero=True, input_length=None)),\n",
    "model.add(SimpleRNN(100, return_sequences=True))\n",
    "model.add(Dense(len(ner) + 2, activation='softmax'))\n",
    "model.layers[0].set_weights([embedding_matrix])\n",
    "model.summary()"
   ]
  },
  {
   "cell_type": "markdown",
   "metadata": {},
   "source": [
    "Compile your network. "
   ]
  },
  {
   "cell_type": "code",
   "execution_count": 64,
   "metadata": {},
   "outputs": [],
   "source": [
    "# Write your code\n",
    "model.compile(loss='categorical_crossentropy',\n",
    "              optimizer='rmsprop',\n",
    "              metrics=['accuracy'])"
   ]
  },
  {
   "cell_type": "markdown",
   "metadata": {},
   "source": [
    "Fit it"
   ]
  },
  {
   "cell_type": "code",
   "execution_count": 65,
   "metadata": {},
   "outputs": [
    {
     "name": "stdout",
     "output_type": "stream",
     "text": [
      "Epoch 1/15\n",
      "118/118 [==============================] - 39s 335ms/step - loss: 0.0457 - accuracy: 0.8683 - val_loss: 0.0271 - val_accuracy: 0.9261\n",
      "Epoch 2/15\n",
      "118/118 [==============================] - 46s 389ms/step - loss: 0.0187 - accuracy: 0.9419 - val_loss: 0.0190 - val_accuracy: 0.9474\n",
      "Epoch 3/15\n",
      "118/118 [==============================] - 49s 416ms/step - loss: 0.0140 - accuracy: 0.9554 - val_loss: 0.0185 - val_accuracy: 0.9500\n",
      "Epoch 4/15\n",
      "118/118 [==============================] - 43s 360ms/step - loss: 0.0116 - accuracy: 0.9628 - val_loss: 0.0164 - val_accuracy: 0.9545\n",
      "Epoch 5/15\n",
      "118/118 [==============================] - 40s 336ms/step - loss: 0.0100 - accuracy: 0.9674 - val_loss: 0.0157 - val_accuracy: 0.9544\n",
      "Epoch 6/15\n",
      "118/118 [==============================] - 43s 362ms/step - loss: 0.0087 - accuracy: 0.9715 - val_loss: 0.0156 - val_accuracy: 0.9555\n",
      "Epoch 7/15\n",
      "118/118 [==============================] - 41s 344ms/step - loss: 0.0078 - accuracy: 0.9743 - val_loss: 0.0160 - val_accuracy: 0.9553\n",
      "Epoch 8/15\n",
      "118/118 [==============================] - 41s 344ms/step - loss: 0.0070 - accuracy: 0.9768 - val_loss: 0.0148 - val_accuracy: 0.9563\n",
      "Epoch 9/15\n",
      "118/118 [==============================] - 41s 345ms/step - loss: 0.0063 - accuracy: 0.9789 - val_loss: 0.0182 - val_accuracy: 0.9420\n",
      "Epoch 10/15\n",
      "118/118 [==============================] - 41s 348ms/step - loss: 0.0057 - accuracy: 0.9806 - val_loss: 0.0146 - val_accuracy: 0.9586\n",
      "Epoch 11/15\n",
      "118/118 [==============================] - 42s 352ms/step - loss: 0.0052 - accuracy: 0.9825 - val_loss: 0.0153 - val_accuracy: 0.9578\n",
      "Epoch 12/15\n",
      "118/118 [==============================] - 42s 358ms/step - loss: 0.0047 - accuracy: 0.9841 - val_loss: 0.0152 - val_accuracy: 0.9570\n",
      "Epoch 13/15\n",
      "118/118 [==============================] - 45s 381ms/step - loss: 0.0042 - accuracy: 0.9859 - val_loss: 0.0154 - val_accuracy: 0.9569\n",
      "Epoch 14/15\n",
      "118/118 [==============================] - 44s 369ms/step - loss: 0.0039 - accuracy: 0.9870 - val_loss: 0.0161 - val_accuracy: 0.9575\n",
      "Epoch 15/15\n",
      "118/118 [==============================] - 43s 362ms/step - loss: 0.0035 - accuracy: 0.9883 - val_loss: 0.0176 - val_accuracy: 0.9511\n"
     ]
    }
   ],
   "source": [
    "# Write your code\n",
    "history = model.fit(X, y_train, epochs=15, validation_data=(X_dev, y_dev), batch_size=128)"
   ]
  },
  {
   "cell_type": "markdown",
   "metadata": {},
   "source": [
    "Create a figure to show the training and validation losses and accuracies and comment on a possible overfit."
   ]
  },
  {
   "cell_type": "code",
   "execution_count": 71,
   "metadata": {},
   "outputs": [
    {
     "data": {
      "image/png": "[encoded data removed]",
      "text/plain": [
       "<Figure size 432x288 with 1 Axes>"
      ]
     },
     "metadata": {
      "needs_background": "light"
     },
     "output_type": "display_data"
    },
    {
     "data": {
      "image/png": "[encoded data removed]",
      "text/plain": [
       "<Figure size 432x288 with 1 Axes>"
      ]
     },
     "metadata": {
      "needs_background": "light"
     },
     "output_type": "display_data"
    }
   ],
   "source": [
    "# Write your code here\n",
    "import matplotlib.pyplot as plt\n",
    "\n",
    "acc = history.history['accuracy']\n",
    "val_acc = history.history['val_accuracy']\n",
    "loss = history.history['loss']\n",
    "val_loss = history.history['val_loss']\n",
    "\n",
    "epochs = range(len(acc))\n",
    "\n",
    "plt.plot(epochs, acc, 'bo', label='Training acc')\n",
    "plt.plot(epochs, val_acc, 'b', label='Validation acc')\n",
    "plt.title('Training and validation accuracy')\n",
    "plt.legend()\n",
    "\n",
    "plt.figure()\n",
    "\n",
    "plt.plot(epochs, loss, 'bo', label='Training loss')\n",
    "plt.plot(epochs, val_loss, 'b', label='Validation loss')\n",
    "plt.title('Training and validation loss')\n",
    "plt.legend()\n",
    "\n",
    "plt.show()"
   ]
  },
  {
   "cell_type": "markdown",
   "metadata": {},
   "source": [
    "Apply your network to one sentence."
   ]
  },
  {
   "cell_type": "code",
   "execution_count": 72,
   "metadata": {},
   "outputs": [],
   "source": [
    "sentence = 'The United States might collapsez'.lower().split()"
   ]
  },
  {
   "cell_type": "markdown",
   "metadata": {},
   "source": [
    "First convert the sentence into indices"
   ]
  },
  {
   "cell_type": "code",
   "execution_count": 85,
   "metadata": {},
   "outputs": [
    {
     "name": "stdout",
     "output_type": "stream",
     "text": [
      "Sentence ['the', 'united', 'states', 'might', 'collapsez']\n",
      "Sentence word indexes [[359698, 374678, 344404, 246008, 1]]\n"
     ]
    }
   ],
   "source": [
    "# Write your code\n",
    "print('Sentence', sentence)\n",
    "sentence_idx=[[word2inx[x] if x in word2idx else 1 for x in sentence]]\n",
    "print('Sentence word indexes', sentence_idx)"
   ]
  },
  {
   "cell_type": "markdown",
   "metadata": {},
   "source": [
    "Apply the prediction"
   ]
  },
  {
   "cell_type": "code",
   "execution_count": 92,
   "metadata": {},
   "outputs": [
    {
     "name": "stdout",
     "output_type": "stream",
     "text": [
      "[10, 2, 6, 10, 10]\n",
      "the: O\n",
      "united: B-LOC\n",
      "states: I-LOC\n",
      "might: O\n",
      "collapsez: O\n"
     ]
    }
   ],
   "source": [
    "# Write your code\n",
    "padded_sentence_idx=pad_sequences(sentence_idx, padding='post', maxlen=150)\n",
    "preds_prob=model.predict(padded_sentence_idx)\n",
    "preds=list(map(np.argmax,preds_prob[0][:5]))\n",
    "print(preds)\n",
    "for i, word in enumerate(sentence):\n",
    "    print(word+':', idx2ner[preds[i]])\n",
    "\n"
   ]
  },
  {
   "cell_type": "markdown",
   "metadata": {},
   "source": [
    "## Evaluating your System"
   ]
  },
  {
   "cell_type": "markdown",
   "metadata": {},
   "source": [
    "You will now evaluate the performance of your system on the whole test set. You will use the official script.\n",
    "<ol>\n",
    "    <li>Use the <tt>predict</tt> method to predict the tags of the whole test set\n",
    "    </li>\n",
    "    <li>Write your results in a file, where the two last columns will be the hand-annotated tag\n",
    "        and the predicted tag. The fields must be separated by a space and each line must end with a new line:\n",
    "        <tt>\\n</tt>.\n",
    "    </li>\n",
    "    <li>\n",
    "        If you save your results on a Windows machine, Python will use the default end-of-line sequence: <tt>\\r\\n</tt>.\n",
    "        You will then need either to convert your file or to modify the way you save your file.\n",
    "    </li>\n",
    "    <li>Apply <tt>conlleval</tt> to your output. Report the F1 result.<br/>\n",
    "        Be aware that <tt>conlleval</tt> was designed for Unix and will break\n",
    "    with Windows end-of-line conventions.</li>\n",
    "    <li>Try to improve your model by modifying some parameters, adding layers, adding\n",
    "        <tt>Bidirectional</tt>\n",
    "        and <tt>Dropout</tt>.\n",
    "    </li>\n",
    "    <li>\n",
    "        Evaluate your network again\n",
    "    </li>\n",
    "</ol>"
   ]
  },
  {
   "cell_type": "markdown",
   "metadata": {},
   "source": [
    "First translate the input part of the test set, the words, into lists of words, `X_test`, lists of indices, `X_test_idx`, and a matrix of indices, where you will pad the sequences: `X_test_padded`"
   ]
  },
  {
   "cell_type": "code",
   "execution_count": 98,
   "metadata": {},
   "outputs": [
    {
     "name": "stdout",
     "output_type": "stream",
     "text": [
      "X_test: ['soccer', '-', 'japan', 'get', 'lucky', 'win', ',', 'china', 'in', 'surprise', 'defeat', '.']\n",
      "Y_test ['O', 'O', 'B-LOC', 'O', 'O', 'O', 'O', 'B-PER', 'O', 'O', 'O', 'O']\n"
     ]
    }
   ],
   "source": [
    "# Test\n",
    "X_test, Y_test = build_sequences(test_dict, key_x='form', key_y='ner')\n",
    "print('X_test:', X_test[1])\n",
    "print('Y_test', Y_test[1])"
   ]
  },
  {
   "cell_type": "code",
   "execution_count": 99,
   "metadata": {},
   "outputs": [],
   "source": [
    "# Write your code\n",
    "X_test_idx=X_test.copy()\n",
    "Y_test_idx=Y_test.copy()\n",
    "for i, x in enumerate(X_test):\n",
    "    for j, element in enumerate(x):\n",
    "        if element in word2idx:\n",
    "            X_test_idx[i][j]=word2idx[element]\n",
    "        else:\n",
    "            X_test_idx[i][j]=1\n",
    "        \n",
    "for i, y in enumerate(Y_test):\n",
    "    for j, element in enumerate(y):\n",
    "        if element in ner2idx:\n",
    "            Y_test_idx[i][j]=ner2idx[element]\n",
    "        else:\n",
    "            Y_test_idx[i][j]=1\n",
    "        \n",
    "X_test_padded=pad_sequences(X_test_idx, padding='post', maxlen=150)\n",
    "Y_test_padded=pad_sequences(Y_test_idx, padding='post', maxlen=150)\n",
    "\n",
    "#y_dev= to_categorical(Y_dev, num_classes=len(ner)+2)"
   ]
  },
  {
   "cell_type": "code",
   "execution_count": 100,
   "metadata": {},
   "outputs": [
    {
     "name": "stdout",
     "output_type": "stream",
     "text": [
      "X_test_idx: [338644, 679, 197600, 162137, 229067, 390518, 517, 100680, 190291, 350949, 120818, 936]\n",
      "X_test_padded: [338644    679 197600 162137 229067 390518    517 100680 190291 350949\n",
      " 120818    936      0      0      0      0      0      0      0      0\n",
      "      0      0      0      0      0      0      0      0      0      0\n",
      "      0      0      0      0      0      0      0      0      0      0\n",
      "      0      0      0      0      0      0      0      0      0      0\n",
      "      0      0      0      0      0      0      0      0      0      0\n",
      "      0      0      0      0      0      0      0      0      0      0\n",
      "      0      0      0      0      0      0      0      0      0      0\n",
      "      0      0      0      0      0      0      0      0      0      0\n",
      "      0      0      0      0      0      0      0      0      0      0\n",
      "      0      0      0      0      0      0      0      0      0      0\n",
      "      0      0      0      0      0      0      0      0      0      0\n",
      "      0      0      0      0      0      0      0      0      0      0\n",
      "      0      0      0      0      0      0      0      0      0      0\n",
      "      0      0      0      0      0      0      0      0      0      0]\n"
     ]
    }
   ],
   "source": [
    "print('X_test_idx:', X_test_idx[1])\n",
    "print('X_test_padded:', X_test_padded[1])"
   ]
  },
  {
   "cell_type": "code",
   "execution_count": 101,
   "metadata": {},
   "outputs": [
    {
     "data": {
      "text/plain": [
       "(3684, 150)"
      ]
     },
     "execution_count": 101,
     "metadata": {},
     "output_type": "execute_result"
    }
   ],
   "source": [
    "X_test_padded.shape"
   ]
  },
  {
   "cell_type": "markdown",
   "metadata": {},
   "source": [
    "Now predict the whole test set with `predict` and set the results in `Y_test_hat`"
   ]
  },
  {
   "cell_type": "code",
   "execution_count": 103,
   "metadata": {},
   "outputs": [],
   "source": [
    "# Write your code\n",
    "Y_test_hat=model.predict(X_test_padded)"
   ]
  },
  {
   "cell_type": "code",
   "execution_count": 104,
   "metadata": {},
   "outputs": [
    {
     "name": "stdout",
     "output_type": "stream",
     "text": [
      "X_test [338644, 679, 197600, 162137, 229067, 390518, 517, 100680, 190291, 350949, 120818, 936]\n",
      "X_test_padded [338644    679 197600 162137 229067 390518    517 100680 190291 350949\n",
      " 120818    936      0      0      0      0      0      0      0      0\n",
      "      0      0      0      0      0      0      0      0      0      0\n",
      "      0      0      0      0      0      0      0      0      0      0\n",
      "      0      0      0      0      0      0      0      0      0      0\n",
      "      0      0      0      0      0      0      0      0      0      0\n",
      "      0      0      0      0      0      0      0      0      0      0\n",
      "      0      0      0      0      0      0      0      0      0      0\n",
      "      0      0      0      0      0      0      0      0      0      0\n",
      "      0      0      0      0      0      0      0      0      0      0\n",
      "      0      0      0      0      0      0      0      0      0      0\n",
      "      0      0      0      0      0      0      0      0      0      0\n",
      "      0      0      0      0      0      0      0      0      0      0\n",
      "      0      0      0      0      0      0      0      0      0      0\n",
      "      0      0      0      0      0      0      0      0      0      0]\n",
      "Predictions [[1.1966234e-11 1.2967268e-11 4.5207049e-08 ... 1.5933830e-08\n",
      "  2.6741564e-08 9.9999928e-01]\n",
      " [1.1966234e-11 1.2967268e-11 4.5207049e-08 ... 1.5933830e-08\n",
      "  2.6741564e-08 9.9999928e-01]\n",
      " [1.1966234e-11 1.2967268e-11 4.5207049e-08 ... 1.5933830e-08\n",
      "  2.6741564e-08 9.9999928e-01]\n",
      " ...\n",
      " [1.1966234e-11 1.2967268e-11 4.5207049e-08 ... 1.5933830e-08\n",
      "  2.6741564e-08 9.9999928e-01]\n",
      " [1.1966234e-11 1.2967268e-11 4.5207049e-08 ... 1.5933830e-08\n",
      "  2.6741564e-08 9.9999928e-01]\n",
      " [1.1966234e-11 1.2967268e-11 4.5207049e-08 ... 1.5933830e-08\n",
      "  2.6741564e-08 9.9999928e-01]]\n"
     ]
    }
   ],
   "source": [
    "print('X_test', X_test[1])\n",
    "print('X_test_padded', X_test_padded[1])\n",
    "print('Predictions', Y_test_hat[0])"
   ]
  },
  {
   "cell_type": "markdown",
   "metadata": {},
   "source": [
    "Extract the indices of the highest probabilities from the lists and convert them into NER values. Add them with the `pner` key to the dictionaries in the `test_dict` list."
   ]
  },
  {
   "cell_type": "code",
   "execution_count": 106,
   "metadata": {},
   "outputs": [],
   "source": [
    "# write your code\n",
    "for i, sentence in enumerate(test_dict):\n",
    "    preds=list(map(np.argmax,Y_test_hat[i]))\n",
    "    for k, word in enumerate(sentence):\n",
    "        word['pner']=idx2ner[preds[k]]\n",
    "        \n",
    "    "
   ]
  },
  {
   "cell_type": "code",
   "execution_count": 115,
   "metadata": {},
   "outputs": [
    {
     "data": {
      "text/plain": [
       "[{'form': 'SOCCER', 'ppos': 'NN', 'pchunk': 'B-NP', 'ner': 'O', 'pner': 'O'},\n",
       " {'form': '-', 'ppos': ':', 'pchunk': 'O', 'ner': 'O', 'pner': 'O'},\n",
       " {'form': 'JAPAN',\n",
       "  'ppos': 'NNP',\n",
       "  'pchunk': 'B-NP',\n",
       "  'ner': 'B-LOC',\n",
       "  'pner': 'B-LOC'},\n",
       " {'form': 'GET', 'ppos': 'VB', 'pchunk': 'B-VP', 'ner': 'O', 'pner': 'O'},\n",
       " {'form': 'LUCKY', 'ppos': 'NNP', 'pchunk': 'B-NP', 'ner': 'O', 'pner': 'O'},\n",
       " {'form': 'WIN', 'ppos': 'NNP', 'pchunk': 'I-NP', 'ner': 'O', 'pner': 'O'},\n",
       " {'form': ',', 'ppos': ',', 'pchunk': 'O', 'ner': 'O', 'pner': 'O'},\n",
       " {'form': 'CHINA',\n",
       "  'ppos': 'NNP',\n",
       "  'pchunk': 'B-NP',\n",
       "  'ner': 'B-PER',\n",
       "  'pner': 'B-LOC'},\n",
       " {'form': 'IN', 'ppos': 'IN', 'pchunk': 'B-PP', 'ner': 'O', 'pner': 'O'},\n",
       " {'form': 'SURPRISE', 'ppos': 'DT', 'pchunk': 'B-NP', 'ner': 'O', 'pner': 'O'},\n",
       " {'form': 'DEFEAT', 'ppos': 'NN', 'pchunk': 'I-NP', 'ner': 'O', 'pner': 'O'},\n",
       " {'form': '.', 'ppos': '.', 'pchunk': 'O', 'ner': 'O', 'pner': 'O'}]"
      ]
     },
     "execution_count": 115,
     "metadata": {},
     "output_type": "execute_result"
    }
   ],
   "source": [
    "test_dict[1]"
   ]
  },
  {
   "cell_type": "code",
   "execution_count": 108,
   "metadata": {},
   "outputs": [],
   "source": [
    "ARCH = '1'\n",
    "outfile = 'test' + ARCH + '.out'"
   ]
  },
  {
   "cell_type": "code",
   "execution_count": 109,
   "metadata": {},
   "outputs": [],
   "source": [
    "column_names = ['form', 'ppos', 'pchunk', 'ner', 'pner']"
   ]
  },
  {
   "cell_type": "code",
   "execution_count": 110,
   "metadata": {},
   "outputs": [],
   "source": [
    "def save(file, corpus_dict, column_names):\n",
    "    \"\"\"\n",
    "    Saves the corpus in a file\n",
    "    :param file:\n",
    "    :param corpus_dict:\n",
    "    :param column_names:\n",
    "    :return:\n",
    "    \"\"\"\n",
    "    i = 0\n",
    "    with open(file, 'w', encoding='utf8') as f_out:\n",
    "        i += 1\n",
    "        for sentence in corpus_dict:\n",
    "            sentence_lst = []\n",
    "            for row in sentence:\n",
    "                items = map(lambda x: row.get(x, '_'), column_names)\n",
    "                sentence_lst += ' '.join(items) + '\\n'\n",
    "            sentence_lst += '\\n'\n",
    "            f_out.write(''.join(sentence_lst))"
   ]
  },
  {
   "cell_type": "code",
   "execution_count": 112,
   "metadata": {},
   "outputs": [],
   "source": [
    "save(outfile, test_dict, column_names)"
   ]
  },
  {
   "cell_type": "code",
   "execution_count": 117,
   "metadata": {},
   "outputs": [
    {
     "data": {
      "text/plain": [
       "0.6513893324816353"
      ]
     },
     "execution_count": 117,
     "metadata": {},
     "output_type": "execute_result"
    }
   ],
   "source": [
    "lines = open(outfile, encoding='utf8').read().splitlines()\n",
    "res = conlleval.evaluate(lines)\n",
    "baseline_score = res['overall']['chunks']['evals']['f1']\n",
    "baseline_score"
   ]
  },
  {
   "cell_type": "markdown",
   "metadata": {},
   "source": [
    "## Building a LSTM Network"
   ]
  },
  {
   "cell_type": "markdown",
   "metadata": {},
   "source": [
    "1. Create a simple LSTM network and train a model with the train set. As layers, you will use <tt>Embedding</tt>, <tt>LSTM</tt>, and <tt>Dense</tt>.\n",
    "2. Apply conlleval to your output. Report the F1 result.\n",
    "3. Try to improve your model by modifying some parameters, adding layers, adding <tt>Bidirectional</tt>, <tt>Dropout</tt>, possibly mixing <tt>SimpleRNN</tt>.\n",
    "4. Apply your network to the test set and report the accuracy you obtained. you need to reach a F1 of 82 to pass."
   ]
  },
  {
   "cell_type": "code",
   "execution_count": 118,
   "metadata": {},
   "outputs": [
    {
     "name": "stdout",
     "output_type": "stream",
     "text": [
      "Model: \"sequential_3\"\n",
      "_________________________________________________________________\n",
      "Layer (type)                 Output Shape              Param #   \n",
      "=================================================================\n",
      "embedding_2 (Embedding)      (None, None, 100)         40259700  \n",
      "_________________________________________________________________\n",
      "dropout (Dropout)            (None, None, 100)         0         \n",
      "_________________________________________________________________\n",
      "bidirectional (Bidirectional (None, None, 200)         160800    \n",
      "_________________________________________________________________\n",
      "dropout_1 (Dropout)          (None, None, 200)         0         \n",
      "_________________________________________________________________\n",
      "dense_2 (Dense)              (None, None, 11)          2211      \n",
      "=================================================================\n",
      "Total params: 40,422,711\n",
      "Trainable params: 40,422,711\n",
      "Non-trainable params: 0\n",
      "_________________________________________________________________\n"
     ]
    }
   ],
   "source": [
    "# Write your code\n",
    "model =Sequential()\n",
    "model.add(Embedding(len(vocabulary_words) + 2, 100, mask_zero=True, input_length=None)),\n",
    "model.add(Dropout(0.2)),\n",
    "model.add(Bidirectional(LSTM(100, return_sequences=True))),\n",
    "model.add(Dropout(0.2)),\n",
    "model.add(Dense(len(ner) + 2, activation='softmax'))\n",
    "model.layers[0].set_weights([embedding_matrix])\n",
    "model.summary()"
   ]
  },
  {
   "cell_type": "markdown",
   "metadata": {},
   "source": [
    "Compile and fit it"
   ]
  },
  {
   "cell_type": "code",
   "execution_count": 55,
   "metadata": {},
   "outputs": [
    {
     "name": "stdout",
     "output_type": "stream",
     "text": [
      "Model: \"sequential_1\"\n",
      "_________________________________________________________________\n",
      "Layer (type)                 Output Shape              Param #   \n",
      "=================================================================\n",
      "embedding_1 (Embedding)      (None, None, 100)         40259700  \n",
      "_________________________________________________________________\n",
      "dropout (Dropout)            (None, None, 100)         0         \n",
      "_________________________________________________________________\n",
      "bidirectional (Bidirectional (None, None, 200)         160800    \n",
      "_________________________________________________________________\n",
      "dropout_1 (Dropout)          (None, None, 200)         0         \n",
      "_________________________________________________________________\n",
      "dense_1 (Dense)              (None, None, 10)          2010      \n",
      "=================================================================\n",
      "Total params: 40,422,510\n",
      "Trainable params: 40,422,510\n",
      "Non-trainable params: 0\n",
      "_________________________________________________________________\n",
      "Epoch 1/15\n",
      "469/469 - 155s - loss: 0.0245 - acc: 0.9215 - val_loss: 0.0142 - val_acc: 0.9591\n",
      "Epoch 2/15\n",
      "469/469 - 148s - loss: 0.0123 - acc: 0.9594 - val_loss: 0.0170 - val_acc: 0.9624\n",
      "Epoch 3/15\n",
      "469/469 - 147s - loss: 0.0097 - acc: 0.9677 - val_loss: 0.0096 - val_acc: 0.9710\n",
      "Epoch 4/15\n",
      "469/469 - 150s - loss: 0.0082 - acc: 0.9717 - val_loss: 0.0092 - val_acc: 0.9733\n",
      "Epoch 5/15\n",
      "469/469 - 144s - loss: 0.0070 - acc: 0.9760 - val_loss: 0.0086 - val_acc: 0.9745\n",
      "Epoch 6/15\n",
      "469/469 - 145s - loss: 0.0063 - acc: 0.9786 - val_loss: 0.0080 - val_acc: 0.9766\n",
      "Epoch 7/15\n",
      "469/469 - 145s - loss: 0.0058 - acc: 0.9802 - val_loss: 0.0081 - val_acc: 0.9772\n",
      "Epoch 8/15\n",
      "469/469 - 142s - loss: 0.0051 - acc: 0.9822 - val_loss: 0.0083 - val_acc: 0.9770\n",
      "Epoch 9/15\n",
      "469/469 - 145s - loss: 0.0046 - acc: 0.9842 - val_loss: 0.0082 - val_acc: 0.9772\n",
      "Epoch 10/15\n",
      "469/469 - 148s - loss: 0.0043 - acc: 0.9852 - val_loss: 0.0080 - val_acc: 0.9781\n",
      "Epoch 11/15\n",
      "469/469 - 142s - loss: 0.0038 - acc: 0.9867 - val_loss: 0.0083 - val_acc: 0.9777\n",
      "Epoch 12/15\n",
      "469/469 - 146s - loss: 0.0037 - acc: 0.9873 - val_loss: 0.0080 - val_acc: 0.9784\n",
      "Epoch 13/15\n",
      "469/469 - 148s - loss: 0.0034 - acc: 0.9885 - val_loss: 0.0089 - val_acc: 0.9778\n",
      "Epoch 14/15\n",
      "469/469 - 149s - loss: 0.0030 - acc: 0.9897 - val_loss: 0.0082 - val_acc: 0.9783\n",
      "Epoch 15/15\n",
      "469/469 - 149s - loss: 0.0029 - acc: 0.9900 - val_loss: 0.0089 - val_acc: 0.9777\n"
     ]
    }
   ],
   "source": [
    "# Write your code\n",
    "model.complile()"
   ]
  },
  {
   "cell_type": "markdown",
   "metadata": {},
   "source": [
    "Create a figure to show the training and validation losses and accuracies and comment on a possible overfit."
   ]
  },
  {
   "cell_type": "code",
   "execution_count": 119,
   "metadata": {},
   "outputs": [
    {
     "name": "stdout",
     "output_type": "stream",
     "text": [
      "Epoch 1/15\n",
      "118/118 [==============================] - 127s 1s/step - loss: 0.0431 - accuracy: 0.8724 - val_loss: 0.0277 - val_accuracy: 0.9242\n",
      "Epoch 2/15\n",
      "118/118 [==============================] - 158s 1s/step - loss: 0.0203 - accuracy: 0.9353 - val_loss: 0.0194 - val_accuracy: 0.9445\n",
      "Epoch 3/15\n",
      "118/118 [==============================] - 149s 1s/step - loss: 0.0148 - accuracy: 0.9530 - val_loss: 0.0133 - val_accuracy: 0.9629\n",
      "Epoch 4/15\n",
      "118/118 [==============================] - 150s 1s/step - loss: 0.0119 - accuracy: 0.9616 - val_loss: 0.0121 - val_accuracy: 0.9656\n",
      "Epoch 5/15\n",
      "118/118 [==============================] - 150s 1s/step - loss: 0.0102 - accuracy: 0.9668 - val_loss: 0.0120 - val_accuracy: 0.9658\n",
      "Epoch 6/15\n",
      "118/118 [==============================] - 175s 1s/step - loss: 0.0089 - accuracy: 0.9707 - val_loss: 0.0105 - val_accuracy: 0.9706\n",
      "Epoch 7/15\n",
      "118/118 [==============================] - 160s 1s/step - loss: 0.0079 - accuracy: 0.9740 - val_loss: 0.0101 - val_accuracy: 0.9713\n",
      "Epoch 8/15\n",
      "118/118 [==============================] - 146s 1s/step - loss: 0.0070 - accuracy: 0.9768 - val_loss: 0.0097 - val_accuracy: 0.9730\n",
      "Epoch 9/15\n",
      "118/118 [==============================] - 144s 1s/step - loss: 0.0064 - accuracy: 0.9784 - val_loss: 0.0093 - val_accuracy: 0.9723\n",
      "Epoch 10/15\n",
      "118/118 [==============================] - 157s 1s/step - loss: 0.0058 - accuracy: 0.9805 - val_loss: 0.0094 - val_accuracy: 0.9728\n",
      "Epoch 11/15\n",
      "118/118 [==============================] - 133s 1s/step - loss: 0.0052 - accuracy: 0.9823 - val_loss: 0.0090 - val_accuracy: 0.9744\n",
      "Epoch 12/15\n",
      "118/118 [==============================] - 163s 1s/step - loss: 0.0048 - accuracy: 0.9838 - val_loss: 0.0089 - val_accuracy: 0.9751\n",
      "Epoch 13/15\n",
      "118/118 [==============================] - 145s 1s/step - loss: 0.0044 - accuracy: 0.9851 - val_loss: 0.0090 - val_accuracy: 0.9729\n",
      "Epoch 14/15\n",
      "118/118 [==============================] - 143s 1s/step - loss: 0.0041 - accuracy: 0.9867 - val_loss: 0.0099 - val_accuracy: 0.9706\n",
      "Epoch 15/15\n",
      "118/118 [==============================] - 138s 1s/step - loss: 0.0037 - accuracy: 0.9875 - val_loss: 0.0088 - val_accuracy: 0.9756\n"
     ]
    }
   ],
   "source": [
    "# Write your code\n",
    "model.compile(loss='categorical_crossentropy',\n",
    "              optimizer='rmsprop',\n",
    "              metrics=['accuracy'])\n",
    "history = model.fit(X, y_train, epochs=15, validation_data=(X_dev, y_dev), batch_size=128)"
   ]
  },
  {
   "cell_type": "code",
   "execution_count": 120,
   "metadata": {},
   "outputs": [
    {
     "data": {
      "image/png": "[encoded data removed]",
      "text/plain": [
       "<Figure size 432x288 with 1 Axes>"
      ]
     },
     "metadata": {
      "needs_background": "light"
     },
     "output_type": "display_data"
    },
    {
     "data": {
      "image/png": "[encoded data removed]",
      "text/plain": [
       "<Figure size 432x288 with 1 Axes>"
      ]
     },
     "metadata": {
      "needs_background": "light"
     },
     "output_type": "display_data"
    }
   ],
   "source": [
    "acc = history.history['accuracy']\n",
    "val_acc = history.history['val_accuracy']\n",
    "loss = history.history['loss']\n",
    "val_loss = history.history['val_loss']\n",
    "\n",
    "epochs = range(len(acc))\n",
    "\n",
    "plt.plot(epochs, acc, 'bo', label='Training acc')\n",
    "plt.plot(epochs, val_acc, 'b', label='Validation acc')\n",
    "plt.title('Training and validation accuracy')\n",
    "plt.legend()\n",
    "\n",
    "plt.figure()\n",
    "\n",
    "plt.plot(epochs, loss, 'bo', label='Training loss')\n",
    "plt.plot(epochs, val_loss, 'b', label='Validation loss')\n",
    "plt.title('Training and validation loss')\n",
    "plt.legend()\n",
    "\n",
    "plt.show()"
   ]
  },
  {
   "cell_type": "markdown",
   "metadata": {},
   "source": [
    "Predict the NER sequence"
   ]
  },
  {
   "cell_type": "code",
   "execution_count": 121,
   "metadata": {},
   "outputs": [],
   "source": [
    "# Write your code\n",
    "Y_test_hat=model.predict(X_test_padded)      "
   ]
  },
  {
   "cell_type": "markdown",
   "metadata": {},
   "source": [
    "Extract the indices of the highest probabilities from the lists and convert them into NER values. Add them with the `pner` key to the dictionaries in the `test_dict` list."
   ]
  },
  {
   "cell_type": "code",
   "execution_count": 122,
   "metadata": {},
   "outputs": [],
   "source": [
    "# write your code\n",
    "for i, sentence in enumerate(test_dict):\n",
    "    preds=list(map(np.argmax,Y_test_hat[i]))\n",
    "    for k, word in enumerate(sentence):\n",
    "        word['pner']=idx2ner[preds[k]]  "
   ]
  },
  {
   "cell_type": "code",
   "execution_count": 123,
   "metadata": {},
   "outputs": [],
   "source": [
    "ARCH = '4'\n",
    "outfile = 'test' + ARCH + '.out'"
   ]
  },
  {
   "cell_type": "code",
   "execution_count": 124,
   "metadata": {},
   "outputs": [],
   "source": [
    "save(outfile, test_dict, column_names)"
   ]
  },
  {
   "cell_type": "code",
   "execution_count": 125,
   "metadata": {},
   "outputs": [
    {
     "data": {
      "text/plain": [
       "0.8341805433829974"
      ]
     },
     "execution_count": 125,
     "metadata": {},
     "output_type": "execute_result"
    }
   ],
   "source": [
    "lines = open(outfile, encoding='utf8').read().splitlines()\n",
    "res = conlleval.evaluate(lines)\n",
    "improved_score = res['overall']['chunks']['evals']['f1']\n",
    "improved_score"
   ]
  },
  {
   "cell_type": "markdown",
   "metadata": {},
   "source": [
    "You need to reach 82 to pass the assignment."
   ]
  },
  {
   "cell_type": "code",
   "execution_count": null,
   "metadata": {},
   "outputs": [],
   "source": []
  }
 ],
 "metadata": {
  "kernelspec": {
   "display_name": "Python 3",
   "language": "python",
   "name": "python3"
  },
  "language_info": {
   "codemirror_mode": {
    "name": "ipython",
    "version": 3
   },
   "file_extension": ".py",
   "mimetype": "text/x-python",
   "name": "python",
   "nbconvert_exporter": "python",
   "pygments_lexer": "ipython3",
   "version": "3.7.3"
  }
 },
 "nbformat": 4,
 "nbformat_minor": 4
}
